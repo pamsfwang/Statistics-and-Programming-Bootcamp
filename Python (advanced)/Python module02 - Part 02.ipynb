{
 "cells": [
  {
   "cell_type": "markdown",
   "metadata": {},
   "source": [
    "# Module 02 - Part 02\n",
    "\n",
    "Module 2 is a direct translation from R to Python based on the Advanced R tutorials (AdvanceR_Part2.Rmd) by Shao-Fang Wang in 2020. \n",
    "\n",
    "Many people have contributed to developing and revising the R tutorial material (which is what this Python tutorial is based on) over the years: \n",
    "Anna Khazenzon, Cayce Hook, Paul Thibodeau, Mike Frank, Benoit Monin, Ewart Thomas, Michael Waskom, Steph Gagnon, Dan Birman, Natalia Velez, Kara Weisman, Andrew Lampinen, Joshua Morris, Yochai Shavit, Jackie Schwartz, Arielle Keller, and Leili Mortazavi.   \n",
    "\n",
    "\n",
    "### Welcome to part 2!\n"
   ]
  },
  {
   "cell_type": "code",
   "execution_count": 28,
   "metadata": {
    "scrolled": true
   },
   "outputs": [],
   "source": [
    "import numpy\n",
    "import pandas\n",
    "import statsmodels.api as sm"
   ]
  },
  {
   "cell_type": "code",
   "execution_count": 36,
   "metadata": {},
   "outputs": [],
   "source": [
    "df_survey = pandas.read_csv('https://raw.githubusercontent.com/lampinen/R_workshop_materials/master/data/fieldsimul1.csv')"
   ]
  },
  {
   "cell_type": "markdown",
   "metadata": {},
   "source": [
    "#### Linear regression\n",
    "\n",
    "T-test works well for the specific case of comparing two-means. For most other analysis we use the function [`sm.OLS`](https://www.statsmodels.org/devel/generated/statsmodels.regression.linear_model.OLS.html) to perform ordinary least squares. For the sake of this tutorial we will use it to examine the best-fitting linear relationship between quantitative variables (e.g., X and Y). \n",
    "To use `sm.OLS`, you must provide X, your *independent variable* (IV), and Y, your *dependent variable* (DV). The shape of X is n * k where n is the number of observations and k is the number of regressors. That is, this formula asked \"as X changes, what happens to Y? How much of the variance in Y is explained by variance in X?\"\n",
    "\n",
    "\n",
    "\n",
    "\n",
    "For instance, we might want to investigate the relationship between age (X) and optimism (Y), depicted in the plot above. As age increases, how does optimism change?"
   ]
  },
  {
   "cell_type": "code",
   "execution_count": 30,
   "metadata": {},
   "outputs": [
    {
     "name": "stdout",
     "output_type": "stream",
     "text": [
      "                            OLS Regression Results                            \n",
      "==============================================================================\n",
      "Dep. Variable:                optmism   R-squared:                       0.111\n",
      "Model:                            OLS   Adj. R-squared:                  0.107\n",
      "Method:                 Least Squares   F-statistic:                     24.84\n",
      "Date:                Mon, 10 Aug 2020   Prob (F-statistic):           1.36e-06\n",
      "Time:                        16:12:21   Log-Likelihood:                -402.17\n",
      "No. Observations:                 200   AIC:                             808.3\n",
      "Df Residuals:                     198   BIC:                             814.9\n",
      "Df Model:                           1                                         \n",
      "Covariance Type:            nonrobust                                         \n",
      "==============================================================================\n",
      "                 coef    std err          t      P>|t|      [0.025      0.975]\n",
      "------------------------------------------------------------------------------\n",
      "const          3.4989      0.444      7.887      0.000       2.624       4.374\n",
      "age            0.0438      0.009      4.984      0.000       0.026       0.061\n",
      "==============================================================================\n",
      "Omnibus:                        1.461   Durbin-Watson:                   0.831\n",
      "Prob(Omnibus):                  0.482   Jarque-Bera (JB):                1.100\n",
      "Skew:                           0.122   Prob(JB):                        0.577\n",
      "Kurtosis:                       3.270   Cond. No.                         174.\n",
      "==============================================================================\n",
      "\n",
      "Warnings:\n",
      "[1] Standard Errors assume that the covariance matrix of the errors is correctly specified.\n"
     ]
    },
    {
     "name": "stderr",
     "output_type": "stream",
     "text": [
      "/Users/SFW_Work/anaconda3/lib/python3.7/site-packages/numpy/core/fromnumeric.py:2389: FutureWarning: Method .ptp is deprecated and will be removed in a future version. Use numpy.ptp instead.\n",
      "  return ptp(axis=axis, out=out, **kwargs)\n"
     ]
    }
   ],
   "source": [
    "#Note that we are now returning to our original dataset (df_survey) \n",
    "#because we are no longer interested in just the two parties.\n",
    "x = sm.add_constant(df_survey['age']) #An intercept is not included by default and should be added by the user\n",
    "y = df_survey['optmism']\n",
    "model = sm.OLS(y,x)\n",
    "result = model.fit()\n",
    "print(result.summary())\n",
    "\n",
    "#rs2 = lm(optmism ~ age, data = df_survey)"
   ]
  },
  {
   "cell_type": "markdown",
   "metadata": {},
   "source": [
    "Based off of this output, we can see that age is a significant predictor of optimism. Below the table of $t$ values and $p$ values, we can find the \"R-squared\" statistic of the model. This tells us that the variance in age explains approximately 10% of the variance in optimism.\n",
    "\n",
    "More complex analyses may include *multiple* predictors, using a technique called *multiple regression*. One common reason to include addition predictors is to \"control\" for exogenous variables -- variables which are uninteresting in themselves yet related to the relationship we are analyzing. For example, if older people are more likely to belong to one party than another and people in that party tend to more optimistic (perhaps because of party rhetoric or policy stances), then the relationship we observed above may have nothing to do with age. The real relationship could be between party and optimism: it just happens that age and party membership is correlated. Multiple regression helps us tease apart these relationships: we want to know whether age is related to optimism *after accounting for party membership*.  \n",
    "\n",
    "Because party if a categorical variable, first, we need to convert the party variable into dummy/indicator variables:"
   ]
  },
  {
   "cell_type": "code",
   "execution_count": 37,
   "metadata": {},
   "outputs": [
    {
     "data": {
      "text/html": [
       "<div>\n",
       "<style scoped>\n",
       "    .dataframe tbody tr th:only-of-type {\n",
       "        vertical-align: middle;\n",
       "    }\n",
       "\n",
       "    .dataframe tbody tr th {\n",
       "        vertical-align: top;\n",
       "    }\n",
       "\n",
       "    .dataframe thead th {\n",
       "        text-align: right;\n",
       "    }\n",
       "</style>\n",
       "<table border=\"1\" class=\"dataframe\">\n",
       "  <thead>\n",
       "    <tr style=\"text-align: right;\">\n",
       "      <th></th>\n",
       "      <th>recall</th>\n",
       "      <th>prop54</th>\n",
       "      <th>party</th>\n",
       "      <th>age</th>\n",
       "      <th>optmism</th>\n",
       "      <th>agecat</th>\n",
       "      <th>recallq</th>\n",
       "      <th>2</th>\n",
       "      <th>3</th>\n",
       "    </tr>\n",
       "  </thead>\n",
       "  <tbody>\n",
       "    <tr>\n",
       "      <th>0</th>\n",
       "      <td>1</td>\n",
       "      <td>1</td>\n",
       "      <td>1</td>\n",
       "      <td>49</td>\n",
       "      <td>7</td>\n",
       "      <td>45</td>\n",
       "      <td>1</td>\n",
       "      <td>0</td>\n",
       "      <td>0</td>\n",
       "    </tr>\n",
       "    <tr>\n",
       "      <th>1</th>\n",
       "      <td>1</td>\n",
       "      <td>1</td>\n",
       "      <td>1</td>\n",
       "      <td>44</td>\n",
       "      <td>8</td>\n",
       "      <td>45</td>\n",
       "      <td>1</td>\n",
       "      <td>0</td>\n",
       "      <td>0</td>\n",
       "    </tr>\n",
       "    <tr>\n",
       "      <th>2</th>\n",
       "      <td>1</td>\n",
       "      <td>1</td>\n",
       "      <td>1</td>\n",
       "      <td>46</td>\n",
       "      <td>7</td>\n",
       "      <td>45</td>\n",
       "      <td>1</td>\n",
       "      <td>0</td>\n",
       "      <td>0</td>\n",
       "    </tr>\n",
       "    <tr>\n",
       "      <th>3</th>\n",
       "      <td>1</td>\n",
       "      <td>1</td>\n",
       "      <td>1</td>\n",
       "      <td>50</td>\n",
       "      <td>7</td>\n",
       "      <td>45</td>\n",
       "      <td>1</td>\n",
       "      <td>0</td>\n",
       "      <td>0</td>\n",
       "    </tr>\n",
       "    <tr>\n",
       "      <th>4</th>\n",
       "      <td>1</td>\n",
       "      <td>1</td>\n",
       "      <td>1</td>\n",
       "      <td>25</td>\n",
       "      <td>6</td>\n",
       "      <td>24</td>\n",
       "      <td>1</td>\n",
       "      <td>0</td>\n",
       "      <td>0</td>\n",
       "    </tr>\n",
       "  </tbody>\n",
       "</table>\n",
       "</div>"
      ],
      "text/plain": [
       "   recall  prop54  party  age  optmism  agecat  recallq  2  3\n",
       "0       1       1      1   49        7      45        1  0  0\n",
       "1       1       1      1   44        8      45        1  0  0\n",
       "2       1       1      1   46        7      45        1  0  0\n",
       "3       1       1      1   50        7      45        1  0  0\n",
       "4       1       1      1   25        6      24        1  0  0"
      ]
     },
     "execution_count": 37,
     "metadata": {},
     "output_type": "execute_result"
    }
   ],
   "source": [
    "df_survey=pandas.concat((df_survey,\n",
    "                         pandas.get_dummies(df_survey['party'], drop_first=True)), axis=1)\n",
    "#drop_first: whether to get k-1 dummies out of k categorical levels by removing the first level.\n",
    "df_survey.head()"
   ]
  },
  {
   "cell_type": "markdown",
   "metadata": {},
   "source": [
    "This results in a column of dummy code for party 2 and a column of dummy code for party 3. The names of the columns are a bit confusing, let's change the names:"
   ]
  },
  {
   "cell_type": "code",
   "execution_count": 38,
   "metadata": {},
   "outputs": [
    {
     "data": {
      "text/html": [
       "<div>\n",
       "<style scoped>\n",
       "    .dataframe tbody tr th:only-of-type {\n",
       "        vertical-align: middle;\n",
       "    }\n",
       "\n",
       "    .dataframe tbody tr th {\n",
       "        vertical-align: top;\n",
       "    }\n",
       "\n",
       "    .dataframe thead th {\n",
       "        text-align: right;\n",
       "    }\n",
       "</style>\n",
       "<table border=\"1\" class=\"dataframe\">\n",
       "  <thead>\n",
       "    <tr style=\"text-align: right;\">\n",
       "      <th></th>\n",
       "      <th>recall</th>\n",
       "      <th>prop54</th>\n",
       "      <th>party</th>\n",
       "      <th>age</th>\n",
       "      <th>optmism</th>\n",
       "      <th>agecat</th>\n",
       "      <th>recallq</th>\n",
       "      <th>party2</th>\n",
       "      <th>party3</th>\n",
       "    </tr>\n",
       "  </thead>\n",
       "  <tbody>\n",
       "    <tr>\n",
       "      <th>0</th>\n",
       "      <td>1</td>\n",
       "      <td>1</td>\n",
       "      <td>1</td>\n",
       "      <td>49</td>\n",
       "      <td>7</td>\n",
       "      <td>45</td>\n",
       "      <td>1</td>\n",
       "      <td>0</td>\n",
       "      <td>0</td>\n",
       "    </tr>\n",
       "    <tr>\n",
       "      <th>1</th>\n",
       "      <td>1</td>\n",
       "      <td>1</td>\n",
       "      <td>1</td>\n",
       "      <td>44</td>\n",
       "      <td>8</td>\n",
       "      <td>45</td>\n",
       "      <td>1</td>\n",
       "      <td>0</td>\n",
       "      <td>0</td>\n",
       "    </tr>\n",
       "    <tr>\n",
       "      <th>2</th>\n",
       "      <td>1</td>\n",
       "      <td>1</td>\n",
       "      <td>1</td>\n",
       "      <td>46</td>\n",
       "      <td>7</td>\n",
       "      <td>45</td>\n",
       "      <td>1</td>\n",
       "      <td>0</td>\n",
       "      <td>0</td>\n",
       "    </tr>\n",
       "    <tr>\n",
       "      <th>3</th>\n",
       "      <td>1</td>\n",
       "      <td>1</td>\n",
       "      <td>1</td>\n",
       "      <td>50</td>\n",
       "      <td>7</td>\n",
       "      <td>45</td>\n",
       "      <td>1</td>\n",
       "      <td>0</td>\n",
       "      <td>0</td>\n",
       "    </tr>\n",
       "    <tr>\n",
       "      <th>4</th>\n",
       "      <td>1</td>\n",
       "      <td>1</td>\n",
       "      <td>1</td>\n",
       "      <td>25</td>\n",
       "      <td>6</td>\n",
       "      <td>24</td>\n",
       "      <td>1</td>\n",
       "      <td>0</td>\n",
       "      <td>0</td>\n",
       "    </tr>\n",
       "  </tbody>\n",
       "</table>\n",
       "</div>"
      ],
      "text/plain": [
       "   recall  prop54  party  age  optmism  agecat  recallq  party2  party3\n",
       "0       1       1      1   49        7      45        1       0       0\n",
       "1       1       1      1   44        8      45        1       0       0\n",
       "2       1       1      1   46        7      45        1       0       0\n",
       "3       1       1      1   50        7      45        1       0       0\n",
       "4       1       1      1   25        6      24        1       0       0"
      ]
     },
     "execution_count": 38,
     "metadata": {},
     "output_type": "execute_result"
    }
   ],
   "source": [
    "df_survey = df_survey.rename(columns={2: \"party2\", 3: \"party3\"})\n",
    "df_survey.head()"
   ]
  },
  {
   "cell_type": "markdown",
   "metadata": {},
   "source": [
    "Now, we are ready to add party (i.e., party2 and party 3) as another regressor to the model in addition to age."
   ]
  },
  {
   "cell_type": "code",
   "execution_count": 20,
   "metadata": {},
   "outputs": [
    {
     "name": "stdout",
     "output_type": "stream",
     "text": [
      "                            OLS Regression Results                            \n",
      "==============================================================================\n",
      "Dep. Variable:                optmism   R-squared:                       0.296\n",
      "Model:                            OLS   Adj. R-squared:                  0.285\n",
      "Method:                 Least Squares   F-statistic:                     27.45\n",
      "Date:                Mon, 10 Aug 2020   Prob (F-statistic):           7.25e-15\n",
      "Time:                        16:01:09   Log-Likelihood:                -378.91\n",
      "No. Observations:                 200   AIC:                             765.8\n",
      "Df Residuals:                     196   BIC:                             779.0\n",
      "Df Model:                           3                                         \n",
      "Covariance Type:            nonrobust                                         \n",
      "==============================================================================\n",
      "                 coef    std err          t      P>|t|      [0.025      0.975]\n",
      "------------------------------------------------------------------------------\n",
      "const          4.4666      0.423     10.562      0.000       3.633       5.301\n",
      "party2        -1.6777      0.255     -6.587      0.000      -2.180      -1.175\n",
      "party3         0.0737      0.325      0.227      0.821      -0.567       0.714\n",
      "age            0.0370      0.008      4.649      0.000       0.021       0.053\n",
      "==============================================================================\n",
      "Omnibus:                        0.362   Durbin-Watson:                   1.038\n",
      "Prob(Omnibus):                  0.835   Jarque-Bera (JB):                0.445\n",
      "Skew:                           0.097   Prob(JB):                        0.800\n",
      "Kurtosis:                       2.875   Cond. No.                         195.\n",
      "==============================================================================\n",
      "\n",
      "Warnings:\n",
      "[1] Standard Errors assume that the covariance matrix of the errors is correctly specified.\n"
     ]
    }
   ],
   "source": [
    "x2 = df_survey.filter(items=['party2','party3','age'])\n",
    "x2 = sm.add_constant(x2)#An intercept is not included by default and should be added by the user\n",
    "y = df_survey['optmism']\n",
    "model = sm.OLS(y,x2)\n",
    "result = model.fit()\n",
    "print(result.summary())"
   ]
  },
  {
   "cell_type": "markdown",
   "metadata": {},
   "source": [
    "*Don't worry yet about understanding every line of this output*: it's complicated and we will likely spend some time understanding it. If you feel like you do not have sufficient understanding- feel free to contact the course TA's or the departmental stats TA's (as of Autumn quarte 2017 - Erin Bennett & Yochai Shavit).\n",
    "\n",
    "In the meantime, let's focus on two particularly interesting properties of these results. First, looking at the table with $t$ and $p$ values, we see that *age* is still highly significant as a predictor even after controlling for party membership. Second, looking at the \"R-squared\" statistic, we see that it's gone up to about 0.30. Just by including \"party\" as a predictor, we were able to go from explaining about 10% of the variance in optimism to explaining 30% of the variance! Intuitively, this appears to be a \"better\" model.\n",
    "\n",
    "Returning to the simple linear regression (with a single predictor), we can ask `seaborn` to reconstruct it from the aesthetics object and plot it on top of the data:\n"
   ]
  },
  {
   "cell_type": "code",
   "execution_count": 39,
   "metadata": {},
   "outputs": [],
   "source": [
    "import matplotlib.pyplot as plt\n",
    "import matplotlib\n",
    "import seaborn"
   ]
  },
  {
   "cell_type": "code",
   "execution_count": 40,
   "metadata": {},
   "outputs": [
    {
     "data": {
      "text/plain": [
       "<Figure size 576x576 with 0 Axes>"
      ]
     },
     "metadata": {},
     "output_type": "display_data"
    },
    {
     "data": {
      "image/png": "[encoded data removed]",
      "text/plain": [
       "<Figure size 360x360 with 1 Axes>"
      ]
     },
     "metadata": {
      "needs_background": "light"
     },
     "output_type": "display_data"
    }
   ],
   "source": [
    "plt.figure(figsize=(8,8))\n",
    "ax = seaborn.lmplot(x='age',\n",
    "                    y='optmism',\n",
    "                    line_kws={'color': 'black'},#change the color of the line\n",
    "                    data=df_survey)"
   ]
  },
  {
   "cell_type": "markdown",
   "metadata": {},
   "source": [
    "Note that if you want to really understand what's happening in these plots, it can be valuable to plot these by hand, for example here is some code to plot the residuals (.resid) in `seaborn`:"
   ]
  },
  {
   "cell_type": "code",
   "execution_count": 58,
   "metadata": {},
   "outputs": [
    {
     "data": {
      "text/plain": [
       "<Figure size 576x576 with 0 Axes>"
      ]
     },
     "metadata": {},
     "output_type": "display_data"
    }
   ],
   "source": [
    "plt.figure(figsize=(8,8))\n",
    "residual = pandas.DataFrame({'age':df_survey['age'],'resi':result.resid})\n",
    "#you can access the results from the model os\n",
    "residual.head()"
   ]
  },
  {
   "cell_type": "code",
   "execution_count": 60,
   "metadata": {},
   "outputs": [
    {
     "data": {
      "image/png": "[encoded data removed]",
      "text/plain": [
       "<Figure size 360x360 with 1 Axes>"
      ]
     },
     "metadata": {
      "needs_background": "light"
     },
     "output_type": "display_data"
    }
   ],
   "source": [
    "ax = seaborn.lmplot(x='age',\n",
    "                    y='resi',\n",
    "                    line_kws={'color': 'black'},#change the color of the line\n",
    "                    data=residual)"
   ]
  },
  {
   "cell_type": "markdown",
   "metadata": {},
   "source": [
    "## Resources\n",
    "To understand the result class of a fitted mdoel: https://www.statsmodels.org/stable/generated/statsmodels.regression.linear_model.RegressionResults.html?highlight=regressionresults"
   ]
  }
 ],
 "metadata": {
  "kernelspec": {
   "display_name": "Python 3",
   "language": "python",
   "name": "python3"
  },
  "language_info": {
   "codemirror_mode": {
    "name": "ipython",
    "version": 3
   },
   "file_extension": ".py",
   "mimetype": "text/x-python",
   "name": "python",
   "nbconvert_exporter": "python",
   "pygments_lexer": "ipython3",
   "version": "3.7.3"
  }
 },
 "nbformat": 4,
 "nbformat_minor": 2
}
