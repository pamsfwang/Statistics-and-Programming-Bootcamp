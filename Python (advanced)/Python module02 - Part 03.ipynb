{
 "cells": [
  {
   "cell_type": "markdown",
   "metadata": {},
   "source": [
    "# Module 02 - Part 03\n",
    "\n",
    "Module 2 is a direct translation from R to Python based on the Advanced R tutorials (AdvanceR_Part3.Rmd) by Shao-Fang Wang in 2020. \n",
    "\n",
    "Many people have contributed to developing and revising the R tutorial material (which is what this Python tutorial is based on) over the years: \n",
    "Anna Khazenzon, Cayce Hook, Paul Thibodeau, Mike Frank, Benoit Monin, Ewart Thomas, Michael Waskom, Steph Gagnon, Dan Birman, Natalia Velez, Kara Weisman, Andrew Lampinen, Joshua Morris, Yochai Shavit, Jackie Schwartz, Arielle Keller, and Leili Mortazavi.   \n",
    "\n",
    "### Welcome to part 3!"
   ]
  },
  {
   "cell_type": "markdown",
   "metadata": {},
   "source": [
    "#### Logistic regression\n",
    "To investigate such relationships when our outcome variable is binary (e.g., 0 or 1), we'll need to use logistic regression in place of linear regression. The Python function that allows this (and other types of generalized linear regression) is [`sm.GLM`](https://www.statsmodels.org/stable/glm.html). Check out the help for it, and see if you can figure out how to run a logistic regression with one or more of condition, rt, and experiment stage as predictors!\n",
    "\n",
    "Let's try to predict party affiliation (our binary outcome variable) from age and optimism!\n",
    "\n",
    "Try running this logistic regression model, using the same type of formula setup as with linear regression. We'll use the dataframe `df_dr` and the `party_cat` variable, so that we're restricted to Democrats or Republicans coded as a binary factor. "
   ]
  },
  {
   "cell_type": "code",
   "execution_count": 1,
   "metadata": {
    "scrolled": true
   },
   "outputs": [],
   "source": [
    "import numpy\n",
    "import pandas\n",
    "import statsmodels.api as sm\n",
    "#for plotting\n",
    "import matplotlib.pyplot as plt\n",
    "import matplotlib\n",
    "import seaborn"
   ]
  },
  {
   "cell_type": "code",
   "execution_count": 2,
   "metadata": {},
   "outputs": [],
   "source": [
    "df_survey = pandas.read_csv('https://raw.githubusercontent.com/lampinen/R_workshop_materials/master/data/fieldsimul1.csv')"
   ]
  },
  {
   "cell_type": "code",
   "execution_count": 7,
   "metadata": {},
   "outputs": [
    {
     "name": "stderr",
     "output_type": "stream",
     "text": [
      "/Users/SFW_Work/anaconda3/lib/python3.7/site-packages/ipykernel_launcher.py:2: SettingWithCopyWarning: \n",
      "A value is trying to be set on a copy of a slice from a DataFrame.\n",
      "Try using .loc[row_indexer,col_indexer] = value instead\n",
      "\n",
      "See the caveats in the documentation: http://pandas.pydata.org/pandas-docs/stable/indexing.html#indexing-view-versus-copy\n",
      "  \n",
      "/Users/SFW_Work/anaconda3/lib/python3.7/site-packages/ipykernel_launcher.py:3: SettingWithCopyWarning: \n",
      "A value is trying to be set on a copy of a slice from a DataFrame.\n",
      "Try using .loc[row_indexer,col_indexer] = value instead\n",
      "\n",
      "See the caveats in the documentation: http://pandas.pydata.org/pandas-docs/stable/indexing.html#indexing-view-versus-copy\n",
      "  This is separate from the ipykernel package so we can avoid doing imports until\n"
     ]
    },
    {
     "data": {
      "text/html": [
       "<div>\n",
       "<style scoped>\n",
       "    .dataframe tbody tr th:only-of-type {\n",
       "        vertical-align: middle;\n",
       "    }\n",
       "\n",
       "    .dataframe tbody tr th {\n",
       "        vertical-align: top;\n",
       "    }\n",
       "\n",
       "    .dataframe thead th {\n",
       "        text-align: right;\n",
       "    }\n",
       "</style>\n",
       "<table border=\"1\" class=\"dataframe\">\n",
       "  <thead>\n",
       "    <tr style=\"text-align: right;\">\n",
       "      <th></th>\n",
       "      <th>recall</th>\n",
       "      <th>prop54</th>\n",
       "      <th>party</th>\n",
       "      <th>age</th>\n",
       "      <th>optmism</th>\n",
       "      <th>agecat</th>\n",
       "      <th>recallq</th>\n",
       "      <th>party_cat</th>\n",
       "    </tr>\n",
       "  </thead>\n",
       "  <tbody>\n",
       "    <tr>\n",
       "      <th>0</th>\n",
       "      <td>1</td>\n",
       "      <td>1</td>\n",
       "      <td>1</td>\n",
       "      <td>49</td>\n",
       "      <td>7</td>\n",
       "      <td>45</td>\n",
       "      <td>1</td>\n",
       "      <td>0</td>\n",
       "    </tr>\n",
       "    <tr>\n",
       "      <th>1</th>\n",
       "      <td>1</td>\n",
       "      <td>1</td>\n",
       "      <td>1</td>\n",
       "      <td>44</td>\n",
       "      <td>8</td>\n",
       "      <td>45</td>\n",
       "      <td>1</td>\n",
       "      <td>0</td>\n",
       "    </tr>\n",
       "    <tr>\n",
       "      <th>2</th>\n",
       "      <td>1</td>\n",
       "      <td>1</td>\n",
       "      <td>1</td>\n",
       "      <td>46</td>\n",
       "      <td>7</td>\n",
       "      <td>45</td>\n",
       "      <td>1</td>\n",
       "      <td>0</td>\n",
       "    </tr>\n",
       "    <tr>\n",
       "      <th>3</th>\n",
       "      <td>1</td>\n",
       "      <td>1</td>\n",
       "      <td>1</td>\n",
       "      <td>50</td>\n",
       "      <td>7</td>\n",
       "      <td>45</td>\n",
       "      <td>1</td>\n",
       "      <td>0</td>\n",
       "    </tr>\n",
       "    <tr>\n",
       "      <th>4</th>\n",
       "      <td>1</td>\n",
       "      <td>1</td>\n",
       "      <td>1</td>\n",
       "      <td>25</td>\n",
       "      <td>6</td>\n",
       "      <td>24</td>\n",
       "      <td>1</td>\n",
       "      <td>0</td>\n",
       "    </tr>\n",
       "  </tbody>\n",
       "</table>\n",
       "</div>"
      ],
      "text/plain": [
       "   recall  prop54  party  age  optmism  agecat  recallq party_cat\n",
       "0       1       1      1   49        7      45        1         0\n",
       "1       1       1      1   44        8      45        1         0\n",
       "2       1       1      1   46        7      45        1         0\n",
       "3       1       1      1   50        7      45        1         0\n",
       "4       1       1      1   25        6      24        1         0"
      ]
     },
     "execution_count": 7,
     "metadata": {},
     "output_type": "execute_result"
    }
   ],
   "source": [
    "df_dr=df_survey[df_survey['party'].isin([1,2])]\n",
    "df_dr['party_cat']=df_dr['party']-1\n",
    "df_dr['party_cat'] = df_dr['party_cat'].astype('category')\n",
    "df_dr.head()"
   ]
  },
  {
   "cell_type": "code",
   "execution_count": 4,
   "metadata": {},
   "outputs": [
    {
     "name": "stdout",
     "output_type": "stream",
     "text": [
      "                 Generalized Linear Model Regression Results                  \n",
      "==============================================================================\n",
      "Dep. Variable:              party_cat   No. Observations:                  164\n",
      "Model:                            GLM   Df Residuals:                      161\n",
      "Model Family:                Binomial   Df Model:                            2\n",
      "Link Function:                  logit   Scale:                          1.0000\n",
      "Method:                          IRLS   Log-Likelihood:                -92.628\n",
      "Date:                Mon, 10 Aug 2020   Deviance:                       185.26\n",
      "Time:                        22:19:26   Pearson chi2:                     152.\n",
      "No. Iterations:                     4   Covariance Type:             nonrobust\n",
      "==============================================================================\n",
      "                 coef    std err          z      P>|z|      [0.025      0.975]\n",
      "------------------------------------------------------------------------------\n",
      "const          2.9628      0.795      3.724      0.000       1.404       4.522\n",
      "age            0.0139      0.013      1.054      0.292      -0.012       0.040\n",
      "optmism       -0.6916      0.130     -5.307      0.000      -0.947      -0.436\n",
      "==============================================================================\n"
     ]
    },
    {
     "name": "stderr",
     "output_type": "stream",
     "text": [
      "/Users/SFW_Work/anaconda3/lib/python3.7/site-packages/numpy/core/fromnumeric.py:2389: FutureWarning: Method .ptp is deprecated and will be removed in a future version. Use numpy.ptp instead.\n",
      "  return ptp(axis=axis, out=out, **kwargs)\n"
     ]
    }
   ],
   "source": [
    "x = sm.add_constant(df_dr[['age','optmism']]) #An intercept is not included by default and should be added by the user\n",
    "y = df_dr['party_cat']\n",
    "model = sm.GLM(y,x,family= sm.families.Binomial())\n",
    "\n",
    "result = model.fit()\n",
    "print(result.summary())\n",
    "\n",
    "#rs2 = lm(optmism ~ age, data = df_survey)"
   ]
  },
  {
   "cell_type": "markdown",
   "metadata": {},
   "source": [
    "Now let's try to visualize what this model really looks like. First, we'll access our model's predictions about party preference in our dataset using `.predict()`. Then, we'll use `seaborn` to visualize how well our model fits the data, using `x_jitter` to add some horizontal jitter (this helps us see all the points a little more easily)"
   ]
  },
  {
   "cell_type": "code",
   "execution_count": 5,
   "metadata": {},
   "outputs": [],
   "source": [
    "df_predict = pandas.DataFrame({'predictions':result.predict(),\n",
    "                              'optmism': df_dr['optmism']})\n"
   ]
  },
  {
   "cell_type": "code",
   "execution_count": 6,
   "metadata": {},
   "outputs": [
    {
     "data": {
      "text/plain": [
       "<Figure size 576x576 with 0 Axes>"
      ]
     },
     "metadata": {},
     "output_type": "display_data"
    },
    {
     "data": {
      "image/png": "[encoded data removed]",
      "text/plain": [
       "<Figure size 360x360 with 1 Axes>"
      ]
     },
     "metadata": {
      "needs_background": "light"
     },
     "output_type": "display_data"
    }
   ],
   "source": [
    "plt.figure(figsize=(8,8))\n",
    "ax = seaborn.lmplot(x='optmism',\n",
    "                    y='predictions',\n",
    "                    line_kws={'color': 'black'},#change the color of the line\n",
    "                    logistic = True,\n",
    "                    x_jitter = 0.1,\n",
    "                    data=df_predict)"
   ]
  },
  {
   "cell_type": "markdown",
   "metadata": {},
   "source": [
    "#### Further practice (Stroop Dataset)\n",
    "\n",
    "For some further practice with simple tests, let's return to the Stroop dataset."
   ]
  },
  {
   "cell_type": "code",
   "execution_count": 19,
   "metadata": {},
   "outputs": [],
   "source": [
    "stroop_data = pandas.read_csv('https://raw.githubusercontent.com/lampinen/R_workshop_materials/master/data/stroop.csv')"
   ]
  },
  {
   "cell_type": "code",
   "execution_count": 8,
   "metadata": {},
   "outputs": [
    {
     "data": {
      "text/html": [
       "<div>\n",
       "<style scoped>\n",
       "    .dataframe tbody tr th:only-of-type {\n",
       "        vertical-align: middle;\n",
       "    }\n",
       "\n",
       "    .dataframe tbody tr th {\n",
       "        vertical-align: top;\n",
       "    }\n",
       "\n",
       "    .dataframe thead th {\n",
       "        text-align: right;\n",
       "    }\n",
       "</style>\n",
       "<table border=\"1\" class=\"dataframe\">\n",
       "  <thead>\n",
       "    <tr style=\"text-align: right;\">\n",
       "      <th></th>\n",
       "      <th>Unnamed: 0</th>\n",
       "      <th>condition</th>\n",
       "      <th>correct</th>\n",
       "      <th>correct_response</th>\n",
       "      <th>exp_stage</th>\n",
       "      <th>key_press</th>\n",
       "      <th>possible_responses</th>\n",
       "      <th>rt</th>\n",
       "      <th>stim_color</th>\n",
       "      <th>stim_word</th>\n",
       "      <th>trial_type</th>\n",
       "      <th>worker_id</th>\n",
       "    </tr>\n",
       "  </thead>\n",
       "  <tbody>\n",
       "    <tr>\n",
       "      <th>0</th>\n",
       "      <td>stroop_0_4</td>\n",
       "      <td>incongruent</td>\n",
       "      <td>0.0</td>\n",
       "      <td>66.0</td>\n",
       "      <td>practice</td>\n",
       "      <td>71.0</td>\n",
       "      <td>[66, 71, 82]</td>\n",
       "      <td>1339</td>\n",
       "      <td>blue</td>\n",
       "      <td>red</td>\n",
       "      <td>poldrack-categorize</td>\n",
       "      <td>s002</td>\n",
       "    </tr>\n",
       "    <tr>\n",
       "      <th>1</th>\n",
       "      <td>stroop_0_6</td>\n",
       "      <td>congruent</td>\n",
       "      <td>0.0</td>\n",
       "      <td>66.0</td>\n",
       "      <td>practice</td>\n",
       "      <td>71.0</td>\n",
       "      <td>[66, 71, 82]</td>\n",
       "      <td>757</td>\n",
       "      <td>blue</td>\n",
       "      <td>blue</td>\n",
       "      <td>poldrack-categorize</td>\n",
       "      <td>s002</td>\n",
       "    </tr>\n",
       "    <tr>\n",
       "      <th>2</th>\n",
       "      <td>stroop_0_8</td>\n",
       "      <td>congruent</td>\n",
       "      <td>1.0</td>\n",
       "      <td>71.0</td>\n",
       "      <td>practice</td>\n",
       "      <td>71.0</td>\n",
       "      <td>[66, 71, 82]</td>\n",
       "      <td>1086</td>\n",
       "      <td>green</td>\n",
       "      <td>green</td>\n",
       "      <td>poldrack-categorize</td>\n",
       "      <td>s002</td>\n",
       "    </tr>\n",
       "    <tr>\n",
       "      <th>3</th>\n",
       "      <td>stroop_0_10</td>\n",
       "      <td>congruent</td>\n",
       "      <td>1.0</td>\n",
       "      <td>82.0</td>\n",
       "      <td>practice</td>\n",
       "      <td>82.0</td>\n",
       "      <td>[66, 71, 82]</td>\n",
       "      <td>633</td>\n",
       "      <td>red</td>\n",
       "      <td>red</td>\n",
       "      <td>poldrack-categorize</td>\n",
       "      <td>s002</td>\n",
       "    </tr>\n",
       "    <tr>\n",
       "      <th>4</th>\n",
       "      <td>stroop_0_12</td>\n",
       "      <td>congruent</td>\n",
       "      <td>1.0</td>\n",
       "      <td>66.0</td>\n",
       "      <td>practice</td>\n",
       "      <td>66.0</td>\n",
       "      <td>[66, 71, 82]</td>\n",
       "      <td>983</td>\n",
       "      <td>blue</td>\n",
       "      <td>blue</td>\n",
       "      <td>poldrack-categorize</td>\n",
       "      <td>s002</td>\n",
       "    </tr>\n",
       "  </tbody>\n",
       "</table>\n",
       "</div>"
      ],
      "text/plain": [
       "    Unnamed: 0    condition  correct  correct_response exp_stage  key_press  \\\n",
       "0   stroop_0_4  incongruent      0.0              66.0  practice       71.0   \n",
       "1   stroop_0_6    congruent      0.0              66.0  practice       71.0   \n",
       "2   stroop_0_8    congruent      1.0              71.0  practice       71.0   \n",
       "3  stroop_0_10    congruent      1.0              82.0  practice       82.0   \n",
       "4  stroop_0_12    congruent      1.0              66.0  practice       66.0   \n",
       "\n",
       "  possible_responses    rt stim_color stim_word           trial_type worker_id  \n",
       "0       [66, 71, 82]  1339       blue       red  poldrack-categorize      s002  \n",
       "1       [66, 71, 82]   757       blue      blue  poldrack-categorize      s002  \n",
       "2       [66, 71, 82]  1086      green     green  poldrack-categorize      s002  \n",
       "3       [66, 71, 82]   633        red       red  poldrack-categorize      s002  \n",
       "4       [66, 71, 82]   983       blue      blue  poldrack-categorize      s002  "
      ]
     },
     "execution_count": 8,
     "metadata": {},
     "output_type": "execute_result"
    }
   ],
   "source": [
    "stroop_data.head()"
   ]
  },
  {
   "cell_type": "markdown",
   "metadata": {},
   "source": [
    "We could get a general sense of the differences by condition by just using `groupby()` and `aggregate()`:"
   ]
  },
  {
   "cell_type": "code",
   "execution_count": 75,
   "metadata": {},
   "outputs": [
    {
     "name": "stdout",
     "output_type": "stream",
     "text": [
      "                   mean         std\n",
      "condition                          \n",
      "congruent    683.494786  206.761193\n",
      "incongruent  796.379573  252.646764\n"
     ]
    }
   ],
   "source": [
    "#Apply your knowledge\n",
    "\n",
    "\n",
    "\n",
    "\n",
    "\n",
    "\n",
    "\n",
    "\n",
    "#Answer:\n",
    "stroop_summary_data = stroop_data.groupby('condition')['rt'].aggregate(['mean','std'])\n",
    "print(stroop_summary_data)"
   ]
  },
  {
   "cell_type": "markdown",
   "metadata": {},
   "source": [
    "We can plot this data too!We can plot this data too!"
   ]
  },
  {
   "cell_type": "code",
   "execution_count": 76,
   "metadata": {},
   "outputs": [
    {
     "data": {
      "text/plain": [
       "<matplotlib.axes._subplots.AxesSubplot at 0x1c2359b278>"
      ]
     },
     "execution_count": 76,
     "metadata": {},
     "output_type": "execute_result"
    },
    {
     "data": {
      "image/png": "[encoded data removed]",
      "text/plain": [
       "<Figure size 576x576 with 1 Axes>"
      ]
     },
     "metadata": {},
     "output_type": "display_data"
    }
   ],
   "source": [
    "plt.figure(figsize=(8,8))\n",
    "seaborn.set_style(\"whitegrid\")\n",
    "seaborn.barplot(x='condition',\n",
    "                y='rt',\n",
    "                ci=\"sd\",# use standard deviation of observations instead of a confidence interval as error bars\n",
    "                data = stroop_data)"
   ]
  },
  {
   "cell_type": "markdown",
   "metadata": {},
   "source": [
    "But if you look at the data you might notice that some rt values are -1, probably indicating no response before the time limit. We definitely want to remove these before we look at the data, so let's fix that. We also might want to remove practice trials, and compare across correct and incorrect responses:"
   ]
  },
  {
   "cell_type": "code",
   "execution_count": 77,
   "metadata": {},
   "outputs": [],
   "source": [
    "stroop_data_remove = stroop_data[(stroop_data['rt']>0) & (stroop_data['exp_stage']!=\"practice\")]"
   ]
  },
  {
   "cell_type": "code",
   "execution_count": 78,
   "metadata": {},
   "outputs": [
    {
     "data": {
      "text/html": [
       "<div>\n",
       "<style scoped>\n",
       "    .dataframe tbody tr th:only-of-type {\n",
       "        vertical-align: middle;\n",
       "    }\n",
       "\n",
       "    .dataframe tbody tr th {\n",
       "        vertical-align: top;\n",
       "    }\n",
       "\n",
       "    .dataframe thead th {\n",
       "        text-align: right;\n",
       "    }\n",
       "</style>\n",
       "<table border=\"1\" class=\"dataframe\">\n",
       "  <thead>\n",
       "    <tr style=\"text-align: right;\">\n",
       "      <th></th>\n",
       "      <th></th>\n",
       "      <th>mean</th>\n",
       "      <th>std</th>\n",
       "    </tr>\n",
       "    <tr>\n",
       "      <th>condition</th>\n",
       "      <th>correct</th>\n",
       "      <th></th>\n",
       "      <th></th>\n",
       "    </tr>\n",
       "  </thead>\n",
       "  <tbody>\n",
       "    <tr>\n",
       "      <th rowspan=\"2\" valign=\"top\">congruent</th>\n",
       "      <th>0.0</th>\n",
       "      <td>799.054217</td>\n",
       "      <td>260.279739</td>\n",
       "    </tr>\n",
       "    <tr>\n",
       "      <th>1.0</th>\n",
       "      <td>680.617931</td>\n",
       "      <td>188.429120</td>\n",
       "    </tr>\n",
       "    <tr>\n",
       "      <th rowspan=\"2\" valign=\"top\">incongruent</th>\n",
       "      <th>0.0</th>\n",
       "      <td>850.128295</td>\n",
       "      <td>248.819621</td>\n",
       "    </tr>\n",
       "    <tr>\n",
       "      <th>1.0</th>\n",
       "      <td>799.964224</td>\n",
       "      <td>219.283048</td>\n",
       "    </tr>\n",
       "  </tbody>\n",
       "</table>\n",
       "</div>"
      ],
      "text/plain": [
       "                           mean         std\n",
       "condition   correct                        \n",
       "congruent   0.0      799.054217  260.279739\n",
       "            1.0      680.617931  188.429120\n",
       "incongruent 0.0      850.128295  248.819621\n",
       "            1.0      799.964224  219.283048"
      ]
     },
     "execution_count": 78,
     "metadata": {},
     "output_type": "execute_result"
    }
   ],
   "source": [
    "stroop_data_remove.groupby(['condition','correct'])['rt'].aggregate(['mean','std'])"
   ]
  },
  {
   "cell_type": "code",
   "execution_count": 79,
   "metadata": {},
   "outputs": [
    {
     "data": {
      "text/plain": [
       "<matplotlib.axes._subplots.AxesSubplot at 0x1c2359bef0>"
      ]
     },
     "execution_count": 79,
     "metadata": {},
     "output_type": "execute_result"
    },
    {
     "data": {
      "image/png": "[encoded data removed]",
      "text/plain": [
       "<Figure size 576x576 with 1 Axes>"
      ]
     },
     "metadata": {},
     "output_type": "display_data"
    }
   ],
   "source": [
    "plt.figure(figsize=(8,8))\n",
    "seaborn.set_style(\"whitegrid\")\n",
    "seaborn.barplot(x='correct',\n",
    "                y='rt',\n",
    "                ci=\"sd\",# use standard deviation of observations instead of a confidence interval as error bars\n",
    "                hue = \"condition\",\n",
    "                data = stroop_data_remove)"
   ]
  },
  {
   "cell_type": "markdown",
   "metadata": {},
   "source": [
    "We see the classic pattern of responses, where participants are slower on incongruent trials, as well as when they are incorrect.\n",
    "\n",
    "For now, let's just filter out the invalid rts and from the data we are going to use."
   ]
  },
  {
   "cell_type": "code",
   "execution_count": 80,
   "metadata": {},
   "outputs": [],
   "source": [
    "filtered_stroop_data = stroop_data[stroop_data['rt']>0]"
   ]
  },
  {
   "cell_type": "markdown",
   "metadata": {},
   "source": [
    "First, let's do a simple t-test on just condition"
   ]
  },
  {
   "cell_type": "code",
   "execution_count": 81,
   "metadata": {},
   "outputs": [
    {
     "data": {
      "text/plain": [
       "(-44.357440651492816, 0.0, 23040.0)"
      ]
     },
     "execution_count": 81,
     "metadata": {},
     "output_type": "execute_result"
    }
   ],
   "source": [
    "filtered_stroop_data_congruent = filtered_stroop_data['rt'][filtered_stroop_data['condition']=='congruent']\n",
    "filtered_stroop_data_incongruent= filtered_stroop_data['rt'][filtered_stroop_data['condition']=='incongruent']\n",
    "sm.stats.ttest_ind(filtered_stroop_data_congruent,filtered_stroop_data_incongruent)\n",
    "#returns: t test statistic, pvalue (two tail), and df"
   ]
  },
  {
   "cell_type": "markdown",
   "metadata": {},
   "source": [
    "There is a substantial difference! Let's try this as a linear regression now:"
   ]
  },
  {
   "cell_type": "code",
   "execution_count": 82,
   "metadata": {},
   "outputs": [
    {
     "data": {
      "text/html": [
       "<div>\n",
       "<style scoped>\n",
       "    .dataframe tbody tr th:only-of-type {\n",
       "        vertical-align: middle;\n",
       "    }\n",
       "\n",
       "    .dataframe tbody tr th {\n",
       "        vertical-align: top;\n",
       "    }\n",
       "\n",
       "    .dataframe thead th {\n",
       "        text-align: right;\n",
       "    }\n",
       "</style>\n",
       "<table border=\"1\" class=\"dataframe\">\n",
       "  <thead>\n",
       "    <tr style=\"text-align: right;\">\n",
       "      <th></th>\n",
       "      <th>Unnamed: 0</th>\n",
       "      <th>condition</th>\n",
       "      <th>correct</th>\n",
       "      <th>correct_response</th>\n",
       "      <th>exp_stage</th>\n",
       "      <th>key_press</th>\n",
       "      <th>possible_responses</th>\n",
       "      <th>rt</th>\n",
       "      <th>stim_color</th>\n",
       "      <th>stim_word</th>\n",
       "      <th>trial_type</th>\n",
       "      <th>worker_id</th>\n",
       "      <th>incongruent</th>\n",
       "    </tr>\n",
       "  </thead>\n",
       "  <tbody>\n",
       "    <tr>\n",
       "      <th>0</th>\n",
       "      <td>stroop_0_4</td>\n",
       "      <td>incongruent</td>\n",
       "      <td>0.0</td>\n",
       "      <td>66.0</td>\n",
       "      <td>practice</td>\n",
       "      <td>71.0</td>\n",
       "      <td>[66, 71, 82]</td>\n",
       "      <td>1339</td>\n",
       "      <td>blue</td>\n",
       "      <td>red</td>\n",
       "      <td>poldrack-categorize</td>\n",
       "      <td>s002</td>\n",
       "      <td>1</td>\n",
       "    </tr>\n",
       "    <tr>\n",
       "      <th>1</th>\n",
       "      <td>stroop_0_6</td>\n",
       "      <td>congruent</td>\n",
       "      <td>0.0</td>\n",
       "      <td>66.0</td>\n",
       "      <td>practice</td>\n",
       "      <td>71.0</td>\n",
       "      <td>[66, 71, 82]</td>\n",
       "      <td>757</td>\n",
       "      <td>blue</td>\n",
       "      <td>blue</td>\n",
       "      <td>poldrack-categorize</td>\n",
       "      <td>s002</td>\n",
       "      <td>0</td>\n",
       "    </tr>\n",
       "    <tr>\n",
       "      <th>2</th>\n",
       "      <td>stroop_0_8</td>\n",
       "      <td>congruent</td>\n",
       "      <td>1.0</td>\n",
       "      <td>71.0</td>\n",
       "      <td>practice</td>\n",
       "      <td>71.0</td>\n",
       "      <td>[66, 71, 82]</td>\n",
       "      <td>1086</td>\n",
       "      <td>green</td>\n",
       "      <td>green</td>\n",
       "      <td>poldrack-categorize</td>\n",
       "      <td>s002</td>\n",
       "      <td>0</td>\n",
       "    </tr>\n",
       "    <tr>\n",
       "      <th>3</th>\n",
       "      <td>stroop_0_10</td>\n",
       "      <td>congruent</td>\n",
       "      <td>1.0</td>\n",
       "      <td>82.0</td>\n",
       "      <td>practice</td>\n",
       "      <td>82.0</td>\n",
       "      <td>[66, 71, 82]</td>\n",
       "      <td>633</td>\n",
       "      <td>red</td>\n",
       "      <td>red</td>\n",
       "      <td>poldrack-categorize</td>\n",
       "      <td>s002</td>\n",
       "      <td>0</td>\n",
       "    </tr>\n",
       "    <tr>\n",
       "      <th>4</th>\n",
       "      <td>stroop_0_12</td>\n",
       "      <td>congruent</td>\n",
       "      <td>1.0</td>\n",
       "      <td>66.0</td>\n",
       "      <td>practice</td>\n",
       "      <td>66.0</td>\n",
       "      <td>[66, 71, 82]</td>\n",
       "      <td>983</td>\n",
       "      <td>blue</td>\n",
       "      <td>blue</td>\n",
       "      <td>poldrack-categorize</td>\n",
       "      <td>s002</td>\n",
       "      <td>0</td>\n",
       "    </tr>\n",
       "  </tbody>\n",
       "</table>\n",
       "</div>"
      ],
      "text/plain": [
       "    Unnamed: 0    condition  correct  correct_response exp_stage  key_press  \\\n",
       "0   stroop_0_4  incongruent      0.0              66.0  practice       71.0   \n",
       "1   stroop_0_6    congruent      0.0              66.0  practice       71.0   \n",
       "2   stroop_0_8    congruent      1.0              71.0  practice       71.0   \n",
       "3  stroop_0_10    congruent      1.0              82.0  practice       82.0   \n",
       "4  stroop_0_12    congruent      1.0              66.0  practice       66.0   \n",
       "\n",
       "  possible_responses    rt stim_color stim_word           trial_type  \\\n",
       "0       [66, 71, 82]  1339       blue       red  poldrack-categorize   \n",
       "1       [66, 71, 82]   757       blue      blue  poldrack-categorize   \n",
       "2       [66, 71, 82]  1086      green     green  poldrack-categorize   \n",
       "3       [66, 71, 82]   633        red       red  poldrack-categorize   \n",
       "4       [66, 71, 82]   983       blue      blue  poldrack-categorize   \n",
       "\n",
       "  worker_id  incongruent  \n",
       "0      s002            1  \n",
       "1      s002            0  \n",
       "2      s002            0  \n",
       "3      s002            0  \n",
       "4      s002            0  "
      ]
     },
     "execution_count": 82,
     "metadata": {},
     "output_type": "execute_result"
    }
   ],
   "source": [
    "filtered_stroop_data=pandas.concat((filtered_stroop_data,\n",
    "                         pandas.get_dummies(filtered_stroop_data['condition'], drop_first=True)), axis=1)\n",
    "filtered_stroop_data.head()"
   ]
  },
  {
   "cell_type": "code",
   "execution_count": 83,
   "metadata": {},
   "outputs": [
    {
     "name": "stdout",
     "output_type": "stream",
     "text": [
      "                            OLS Regression Results                            \n",
      "==============================================================================\n",
      "Dep. Variable:                     rt   R-squared:                       0.079\n",
      "Model:                            OLS   Adj. R-squared:                  0.079\n",
      "Method:                 Least Squares   F-statistic:                     1968.\n",
      "Date:                Mon, 10 Aug 2020   Prob (F-statistic):               0.00\n",
      "Time:                        23:42:14   Log-Likelihood:            -1.5610e+05\n",
      "No. Observations:               23042   AIC:                         3.122e+05\n",
      "Df Residuals:                   23040   BIC:                         3.122e+05\n",
      "Df Model:                           1                                         \n",
      "Covariance Type:            nonrobust                                         \n",
      "===============================================================================\n",
      "                  coef    std err          t      P>|t|      [0.025      0.975]\n",
      "-------------------------------------------------------------------------------\n",
      "const         689.9317      1.967    350.701      0.000     686.076     693.788\n",
      "incongruent   123.7868      2.791     44.357      0.000     118.317     129.257\n",
      "==============================================================================\n",
      "Omnibus:                     2229.003   Durbin-Watson:                   1.284\n",
      "Prob(Omnibus):                  0.000   Jarque-Bera (JB):             2971.190\n",
      "Skew:                           0.816   Prob(JB):                         0.00\n",
      "Kurtosis:                       3.659   Cond. No.                         2.61\n",
      "==============================================================================\n",
      "\n",
      "Warnings:\n",
      "[1] Standard Errors assume that the covariance matrix of the errors is correctly specified.\n"
     ]
    }
   ],
   "source": [
    "x = filtered_stroop_data['incongruent']\n",
    "x = sm.add_constant(x)#An intercept is not included by default and should be added by the user\n",
    "y = filtered_stroop_data['rt']\n",
    "model = sm.OLS(y,x)\n",
    "result = model.fit()\n",
    "print(result.summary())"
   ]
  },
  {
   "cell_type": "markdown",
   "metadata": {},
   "source": [
    "Great, we find a similar result (again, don't worry too much about interpreting this output yet).\n",
    "\n",
    "Now, try to extend this model to also include whether the response was correct and whether it was a practice or test trial as predictors! What do you see?"
   ]
  },
  {
   "cell_type": "code",
   "execution_count": 84,
   "metadata": {},
   "outputs": [],
   "source": [
    "##Apply your knowledge\n",
    "\n",
    "\n",
    "\n",
    "\n",
    "\n",
    "\n",
    "\n",
    "\n",
    "\n",
    "\n",
    "\n",
    "\n",
    "\n",
    "# filtered_stroop_data=pandas.concat((filtered_stroop_data,\n",
    "#                          pandas.get_dummies(filtered_stroop_data['correct'], drop_first=True)), axis=1)\n",
    "# filtered_stroop_data.head()\n",
    "# filtered_stroop_data = filtered_stroop_data.rename(columns={1.0: \"correct_dummy\"})\n",
    "# filtered_stroop_data.head()\n",
    "# x2 = filtered_stroop_data.filter(items=['incongruent','correct_dummy'])\n",
    "# x2 = sm.add_constant(x2)#An intercept is not included by default and should be added by the user\n",
    "# y = filtered_stroop_data['rt']\n",
    "# model = sm.OLS(y,x2)\n",
    "# result = model.fit()\n",
    "# print(result.summary())"
   ]
  },
  {
   "cell_type": "markdown",
   "metadata": {},
   "source": [
    "It looks like practice vs test might be important as well! See if you can make a plot using `seaborn` that includes all three predictors (hint: you will have to summarize the data including the new variables, and you may want to check out`?seaborn.catplot`)"
   ]
  },
  {
   "cell_type": "code",
   "execution_count": 85,
   "metadata": {},
   "outputs": [
    {
     "data": {
      "image/png": "[encoded data removed]",
      "text/plain": [
       "<Figure size 808.75x360 with 2 Axes>"
      ]
     },
     "metadata": {},
     "output_type": "display_data"
    }
   ],
   "source": [
    "seaborn.catplot(x=\"correct\", y=\"rt\",\n",
    "                hue=\"condition\", col=\"exp_stage\",\n",
    "                data=filtered_stroop_data, kind=\"bar\",\n",
    "               ci = \"sd\");"
   ]
  },
  {
   "cell_type": "markdown",
   "metadata": {},
   "source": [
    "Of course, you might be interested in whether answers were correct or incorrect! Since T/F values are not normally distributed, the appropriate test to use in this case is a *logistic regression* (you'll learn more about why in 252). "
   ]
  },
  {
   "cell_type": "code",
   "execution_count": 86,
   "metadata": {},
   "outputs": [],
   "source": [
    "#Apply your knowledge\n",
    "\n",
    "\n",
    "\n",
    "\n",
    "\n",
    "\n",
    "\n",
    "\n",
    "\n",
    "\n",
    "\n",
    "\n",
    "#One possible answer:\n",
    "# xglm = sm.add_constant(filtered_stroop_data['incongruent'])#An intercept is not included by default and should be added by the user\n",
    "# yglm = filtered_stroop_data['correct_dummy']\n",
    "# glmmodel = sm.GLM(yglm,xglm,family= sm.families.Binomial())\n",
    "\n",
    "# glmresult = glmmodel.fit()\n",
    "# print(glmresult.summary())"
   ]
  },
  {
   "cell_type": "markdown",
   "metadata": {},
   "source": [
    "Thanks for working through these modules! If you're still not sick of playing around with Python, you can check out [this page](https://www.statsmodels.org/stable/user-guide.html#regression-and-linear-models) on more functions for performing different regression models.\n",
    "\n",
    "\n"
   ]
  },
  {
   "cell_type": "code",
   "execution_count": null,
   "metadata": {},
   "outputs": [],
   "source": []
  }
 ],
 "metadata": {
  "kernelspec": {
   "display_name": "Python 3",
   "language": "python",
   "name": "python3"
  },
  "language_info": {
   "codemirror_mode": {
    "name": "ipython",
    "version": 3
   },
   "file_extension": ".py",
   "mimetype": "text/x-python",
   "name": "python",
   "nbconvert_exporter": "python",
   "pygments_lexer": "ipython3",
   "version": "3.7.3"
  }
 },
 "nbformat": 4,
 "nbformat_minor": 2
}
