{
 "cells": [
  {
   "cell_type": "markdown",
   "metadata": {},
   "source": [
    "# Fundamental Python - Data wrangling and analysis using Pandas\n",
    "\n",
    "This tutorial is based on Russ Poldrack's [PythonForRUsers](https://github.com/poldrack/PythonForRUsers) tutorials and is adpated to a Python-only tutorial by Shao-Fang Wang (2020).  \n",
    "\n",
    "Many people have contributed to developing and revising the R tutorial material (which is what this Python tutorial is based on) over the years: \n",
    "Anna Khazenzon, Cayce Hook, Paul Thibodeau, Mike Frank, Benoit Monin, Ewart Thomas, Michael Waskom, Steph Gagnon, Dan Birman, Natalia Velez, Kara Weisman, Andrew Lampinen, Joshua Morris, Yochai Shavit, Jackie Schwartz, Arielle Keller, and Leili Mortazavi.    \n",
    "\n",
    "--- \n",
    "In this notebook we will explore how to use the Pandas library to work with data. \n",
    "First we need to import some necessary libraries."
   ]
  },
  {
   "cell_type": "code",
   "execution_count": 1,
   "metadata": {},
   "outputs": [],
   "source": [
    "import pandas\n",
    "import numpy\n",
    "from pprint import pprint"
   ]
  },
  {
   "cell_type": "markdown",
   "metadata": {},
   "source": [
    "## Data types in Pandas\n",
    "\n",
    "Pandas is one of the best options for working with tabular data in Python. There are two main types of data structures in Pandas that we will need to use: Series, and DataFrames. The DataFrame is the way Pandas represents a table, and Series is the data-structure Pandas uses to represent a column.\n",
    "\n",
    "Pandas is built on top of the Numpy library, which in practice means that most of the methods defined for Numpy Arrays apply to Pandas Series/DataFrames.\n",
    "\n",
    "What makes Pandas so attractive is the powerful interface to access individual records of the table, proper handling of missing values, and relational-databases operations between DataFrames."
   ]
  },
  {
   "cell_type": "markdown",
   "metadata": {},
   "source": [
    "## DataFrame\n",
    "\n",
    "DataFrame is a 2-dimensional labeled data structure with columns of potentially different types. You can think of it like a spreadsheet. It is the most commonly used pandas object. \n",
    "We will spend a good bit of time on DataFrames because of their importance.  We will move to working with real data shortly, but we will start with a simple example. "
   ]
  },
  {
   "cell_type": "markdown",
   "metadata": {},
   "source": [
    "Let's create a DataFrame in Python.  There are various ways to get data into a dataframe - in this case we will specify them as a dictionary to the ```pandas.DataFrame()``` function."
   ]
  },
  {
   "cell_type": "code",
   "execution_count": 2,
   "metadata": {},
   "outputs": [],
   "source": [
    "x = numpy.array([1, 2, 3, 4, 5, 6, 7, 8, 9])\n",
    "y = x * 2 + 3\n",
    "group = ['1','1','2','2','1','1','2','2','2']\n",
    "\n",
    "df = pandas.DataFrame({'x': x, 'y': y, 'group': group})"
   ]
  },
  {
   "cell_type": "markdown",
   "metadata": {},
   "source": [
    "First, we would like to check out the data. Here are some useful ways to view DataFrame:"
   ]
  },
  {
   "cell_type": "code",
   "execution_count": 3,
   "metadata": {},
   "outputs": [
    {
     "data": {
      "text/plain": [
       "Index([u'group', u'x', u'y'], dtype='object')"
      ]
     },
     "execution_count": 3,
     "metadata": {},
     "output_type": "execute_result"
    }
   ],
   "source": [
    "#Check out all the column names\n",
    "df.columns"
   ]
  },
  {
   "cell_type": "code",
   "execution_count": 4,
   "metadata": {},
   "outputs": [
    {
     "data": {
      "text/html": [
       "<div>\n",
       "<style scoped>\n",
       "    .dataframe tbody tr th:only-of-type {\n",
       "        vertical-align: middle;\n",
       "    }\n",
       "\n",
       "    .dataframe tbody tr th {\n",
       "        vertical-align: top;\n",
       "    }\n",
       "\n",
       "    .dataframe thead th {\n",
       "        text-align: right;\n",
       "    }\n",
       "</style>\n",
       "<table border=\"1\" class=\"dataframe\">\n",
       "  <thead>\n",
       "    <tr style=\"text-align: right;\">\n",
       "      <th></th>\n",
       "      <th>x</th>\n",
       "      <th>y</th>\n",
       "    </tr>\n",
       "  </thead>\n",
       "  <tbody>\n",
       "    <tr>\n",
       "      <th>count</th>\n",
       "      <td>9.000000</td>\n",
       "      <td>9.000000</td>\n",
       "    </tr>\n",
       "    <tr>\n",
       "      <th>mean</th>\n",
       "      <td>5.000000</td>\n",
       "      <td>13.000000</td>\n",
       "    </tr>\n",
       "    <tr>\n",
       "      <th>std</th>\n",
       "      <td>2.738613</td>\n",
       "      <td>5.477226</td>\n",
       "    </tr>\n",
       "    <tr>\n",
       "      <th>min</th>\n",
       "      <td>1.000000</td>\n",
       "      <td>5.000000</td>\n",
       "    </tr>\n",
       "    <tr>\n",
       "      <th>25%</th>\n",
       "      <td>3.000000</td>\n",
       "      <td>9.000000</td>\n",
       "    </tr>\n",
       "    <tr>\n",
       "      <th>50%</th>\n",
       "      <td>5.000000</td>\n",
       "      <td>13.000000</td>\n",
       "    </tr>\n",
       "    <tr>\n",
       "      <th>75%</th>\n",
       "      <td>7.000000</td>\n",
       "      <td>17.000000</td>\n",
       "    </tr>\n",
       "    <tr>\n",
       "      <th>max</th>\n",
       "      <td>9.000000</td>\n",
       "      <td>21.000000</td>\n",
       "    </tr>\n",
       "  </tbody>\n",
       "</table>\n",
       "</div>"
      ],
      "text/plain": [
       "              x          y\n",
       "count  9.000000   9.000000\n",
       "mean   5.000000  13.000000\n",
       "std    2.738613   5.477226\n",
       "min    1.000000   5.000000\n",
       "25%    3.000000   9.000000\n",
       "50%    5.000000  13.000000\n",
       "75%    7.000000  17.000000\n",
       "max    9.000000  21.000000"
      ]
     },
     "execution_count": 4,
     "metadata": {},
     "output_type": "execute_result"
    }
   ],
   "source": [
    "# summarize the variables in the DataFrame\n",
    "df.describe()"
   ]
  },
  {
   "cell_type": "code",
   "execution_count": 5,
   "metadata": {},
   "outputs": [
    {
     "data": {
      "text/plain": [
       "(9, 3)"
      ]
     },
     "execution_count": 5,
     "metadata": {},
     "output_type": "execute_result"
    }
   ],
   "source": [
    "#check the dimension of the dataframe (one of the common ways to do sanity checks)\n",
    "df.shape"
   ]
  },
  {
   "cell_type": "markdown",
   "metadata": {},
   "source": [
    "You can also view the top or the end of the DataFrame by using `.head()` and `.tail()`. By default, it will display the first/last 5 rows. You can put number of rows you would like to view in the parentheses."
   ]
  },
  {
   "cell_type": "code",
   "execution_count": 6,
   "metadata": {},
   "outputs": [
    {
     "data": {
      "text/html": [
       "<div>\n",
       "<style scoped>\n",
       "    .dataframe tbody tr th:only-of-type {\n",
       "        vertical-align: middle;\n",
       "    }\n",
       "\n",
       "    .dataframe tbody tr th {\n",
       "        vertical-align: top;\n",
       "    }\n",
       "\n",
       "    .dataframe thead th {\n",
       "        text-align: right;\n",
       "    }\n",
       "</style>\n",
       "<table border=\"1\" class=\"dataframe\">\n",
       "  <thead>\n",
       "    <tr style=\"text-align: right;\">\n",
       "      <th></th>\n",
       "      <th>group</th>\n",
       "      <th>x</th>\n",
       "      <th>y</th>\n",
       "    </tr>\n",
       "  </thead>\n",
       "  <tbody>\n",
       "    <tr>\n",
       "      <th>0</th>\n",
       "      <td>1</td>\n",
       "      <td>1</td>\n",
       "      <td>5</td>\n",
       "    </tr>\n",
       "    <tr>\n",
       "      <th>1</th>\n",
       "      <td>1</td>\n",
       "      <td>2</td>\n",
       "      <td>7</td>\n",
       "    </tr>\n",
       "    <tr>\n",
       "      <th>2</th>\n",
       "      <td>2</td>\n",
       "      <td>3</td>\n",
       "      <td>9</td>\n",
       "    </tr>\n",
       "    <tr>\n",
       "      <th>3</th>\n",
       "      <td>2</td>\n",
       "      <td>4</td>\n",
       "      <td>11</td>\n",
       "    </tr>\n",
       "    <tr>\n",
       "      <th>4</th>\n",
       "      <td>1</td>\n",
       "      <td>5</td>\n",
       "      <td>13</td>\n",
       "    </tr>\n",
       "  </tbody>\n",
       "</table>\n",
       "</div>"
      ],
      "text/plain": [
       "  group  x   y\n",
       "0     1  1   5\n",
       "1     1  2   7\n",
       "2     2  3   9\n",
       "3     2  4  11\n",
       "4     1  5  13"
      ]
     },
     "execution_count": 6,
     "metadata": {},
     "output_type": "execute_result"
    }
   ],
   "source": [
    "#useful way to view the top (first 5 rows) of the dataframe\n",
    "df.head()\n",
    "\n",
    "#try df.head(11)"
   ]
  },
  {
   "cell_type": "code",
   "execution_count": 7,
   "metadata": {},
   "outputs": [
    {
     "data": {
      "text/html": [
       "<div>\n",
       "<style scoped>\n",
       "    .dataframe tbody tr th:only-of-type {\n",
       "        vertical-align: middle;\n",
       "    }\n",
       "\n",
       "    .dataframe tbody tr th {\n",
       "        vertical-align: top;\n",
       "    }\n",
       "\n",
       "    .dataframe thead th {\n",
       "        text-align: right;\n",
       "    }\n",
       "</style>\n",
       "<table border=\"1\" class=\"dataframe\">\n",
       "  <thead>\n",
       "    <tr style=\"text-align: right;\">\n",
       "      <th></th>\n",
       "      <th>group</th>\n",
       "      <th>x</th>\n",
       "      <th>y</th>\n",
       "    </tr>\n",
       "  </thead>\n",
       "  <tbody>\n",
       "    <tr>\n",
       "      <th>4</th>\n",
       "      <td>1</td>\n",
       "      <td>5</td>\n",
       "      <td>13</td>\n",
       "    </tr>\n",
       "    <tr>\n",
       "      <th>5</th>\n",
       "      <td>1</td>\n",
       "      <td>6</td>\n",
       "      <td>15</td>\n",
       "    </tr>\n",
       "    <tr>\n",
       "      <th>6</th>\n",
       "      <td>2</td>\n",
       "      <td>7</td>\n",
       "      <td>17</td>\n",
       "    </tr>\n",
       "    <tr>\n",
       "      <th>7</th>\n",
       "      <td>2</td>\n",
       "      <td>8</td>\n",
       "      <td>19</td>\n",
       "    </tr>\n",
       "    <tr>\n",
       "      <th>8</th>\n",
       "      <td>2</td>\n",
       "      <td>9</td>\n",
       "      <td>21</td>\n",
       "    </tr>\n",
       "  </tbody>\n",
       "</table>\n",
       "</div>"
      ],
      "text/plain": [
       "  group  x   y\n",
       "4     1  5  13\n",
       "5     1  6  15\n",
       "6     2  7  17\n",
       "7     2  8  19\n",
       "8     2  9  21"
      ]
     },
     "execution_count": 7,
     "metadata": {},
     "output_type": "execute_result"
    }
   ],
   "source": [
    "#useful way to view the end (last 5 rows) of the dataframe\n",
    "df.tail()"
   ]
  },
  {
   "cell_type": "markdown",
   "metadata": {},
   "source": [
    "### Indexing columns\n",
    "\n",
    "There are several different ways to access specific elements of a Pandas DataFrame.  First, let's look at accessing the columns. There are two ways to access a column by name: using the dot notation or putting its name in brackets."
   ]
  },
  {
   "cell_type": "code",
   "execution_count": 8,
   "metadata": {},
   "outputs": [
    {
     "name": "stdout",
     "output_type": "stream",
     "text": [
      "0     5\n",
      "1     7\n",
      "2     9\n",
      "3    11\n",
      "4    13\n",
      "5    15\n",
      "6    17\n",
      "7    19\n",
      "8    21\n",
      "Name: y, dtype: int64\n",
      "0     5\n",
      "1     7\n",
      "2     9\n",
      "3    11\n",
      "4    13\n",
      "5    15\n",
      "6    17\n",
      "7    19\n",
      "8    21\n",
      "Name: y, dtype: int64\n"
     ]
    }
   ],
   "source": [
    "# access one of the variables in the DataFrame\n",
    "# note that this becomes a pandas Series\n",
    "print(df.y)\n",
    "print(df['y'])"
   ]
  },
  {
   "cell_type": "markdown",
   "metadata": {},
   "source": [
    "The columns can also be accessed based on their numeric position. This is done using the ```.iloc``` operator to the DataFrame. The first dimension in the iloc argument refers to the row, and the second to the column.  Thus, if we wanted to access the first three elements in the second columns, we would use:"
   ]
  },
  {
   "cell_type": "code",
   "execution_count": 9,
   "metadata": {},
   "outputs": [
    {
     "data": {
      "text/plain": [
       "0    1\n",
       "1    2\n",
       "2    3\n",
       "Name: x, dtype: int64"
      ]
     },
     "execution_count": 9,
     "metadata": {},
     "output_type": "execute_result"
    }
   ],
   "source": [
    "df.iloc[:3, 1]  # columns are indexed from zero, so 1 refers to the second column"
   ]
  },
  {
   "cell_type": "markdown",
   "metadata": {},
   "source": [
    "Here, you can see that we use `:` on its own to mean all columns."
   ]
  },
  {
   "cell_type": "code",
   "execution_count": 10,
   "metadata": {},
   "outputs": [
    {
     "data": {
      "text/plain": [
       "group    2\n",
       "x        3\n",
       "y        9\n",
       "Name: 2, dtype: object"
      ]
     },
     "execution_count": 10,
     "metadata": {},
     "output_type": "execute_result"
    }
   ],
   "source": [
    "df.iloc[2, :]  # columns are indexed from zero, so 1 refers to the second column"
   ]
  },
  {
   "cell_type": "markdown",
   "metadata": {},
   "source": [
    "### Indexing rows\n",
    "\n",
    "There are two different ways to access a row in a Pandas DataFrame. \n",
    "\n",
    "The first you have already seen in the previous section, using the ```.iloc``` operator to index them numerically based on their position in the array.  \n",
    "\n",
    "The second relies upon the DataFrame's index, using the ```.loc``` operator.  Let's say that we want to extract the third row, which in this case has an index value of 2.  We could do that as follows:"
   ]
  },
  {
   "cell_type": "code",
   "execution_count": 11,
   "metadata": {},
   "outputs": [
    {
     "name": "stdout",
     "output_type": "stream",
     "text": [
      "group    2\n",
      "x        3\n",
      "y        9\n",
      "Name: 2, dtype: object\n"
     ]
    }
   ],
   "source": [
    "print(df.loc[2])"
   ]
  },
  {
   "cell_type": "markdown",
   "metadata": {},
   "source": [
    "Often we would like a more descriptive index.  For example, let's say that our nine rows refer to nine different cities in California.  We can set the index using the ```index``` operator:"
   ]
  },
  {
   "cell_type": "code",
   "execution_count": 12,
   "metadata": {},
   "outputs": [
    {
     "name": "stdout",
     "output_type": "stream",
     "text": [
      "              group  x   y\n",
      "Los Angeles       1  1   5\n",
      "Santa Barbara     1  2   7\n",
      "Sacramento        2  3   9\n",
      "Bakersfield       2  4  11\n",
      "San Francisco     1  5  13\n",
      "Santa Cruz        1  6  15\n",
      "Santa Barbara     2  7  17\n",
      "Oakland           2  8  19\n",
      "San Diego         2  9  21\n"
     ]
    }
   ],
   "source": [
    "df.index = ['Los Angeles', 'Santa Barbara', 'Sacramento', 'Bakersfield', \n",
    "            'San Francisco','Santa Cruz','Santa Barbara','Oakland','San Diego']\n",
    "print(df)"
   ]
  },
  {
   "cell_type": "markdown",
   "metadata": {},
   "source": [
    "Now, if we want to access the data for Sacremento, we can do that using the ```.loc``` operator:\n"
   ]
  },
  {
   "cell_type": "code",
   "execution_count": 13,
   "metadata": {},
   "outputs": [
    {
     "data": {
      "text/plain": [
       "group    2\n",
       "x        3\n",
       "y        9\n",
       "Name: Sacramento, dtype: object"
      ]
     },
     "execution_count": 13,
     "metadata": {},
     "output_type": "execute_result"
    }
   ],
   "source": [
    "df.loc['Sacramento']"
   ]
  },
  {
   "cell_type": "code",
   "execution_count": 14,
   "metadata": {},
   "outputs": [],
   "source": [
    "##Apply your knowledge\n",
    "#Can you select all columns for Bakersfield using .iloc?\n",
    "\n",
    "\n",
    "\n",
    "#Can you select all columns for Bakersfield using .loc?\n",
    "\n",
    "\n",
    "\n",
    "#Can you select the column group from the DataFrame?\n",
    "\n",
    "#Answer:\n",
    "#df.iloc[3,:]\n",
    "#df.loc['Bakersfield']\n",
    "#df.group\n",
    "#df['group']\n",
    "#df.iloc[:,2]"
   ]
  },
  {
   "cell_type": "markdown",
   "metadata": {},
   "source": [
    "### Data Wrangling\n",
    "#### Filtering values in DataFrame\n",
    "There are many ways to filter a DataFrame. Here are a few examples for different situations.  \n",
    "1. We can filter rows of a DataFrame by values in a certain column. This type of filteirng can be done by using equality operator (`==`) and comparison operators (`>`,`<`). We first identify rows that are True to the condition and pass this information within the DataFrame to select the rows corresponding to True."
   ]
  },
  {
   "cell_type": "code",
   "execution_count": 15,
   "metadata": {},
   "outputs": [
    {
     "data": {
      "text/plain": [
       "Los Angeles      False\n",
       "Santa Barbara    False\n",
       "Sacramento       False\n",
       "Bakersfield      False\n",
       "San Francisco    False\n",
       "Santa Cruz        True\n",
       "Santa Barbara     True\n",
       "Oakland           True\n",
       "San Diego         True\n",
       "Name: x, dtype: bool"
      ]
     },
     "execution_count": 15,
     "metadata": {},
     "output_type": "execute_result"
    }
   ],
   "source": [
    "#Which values in column x are larger than 5?\n",
    "df['x']>5"
   ]
  },
  {
   "cell_type": "code",
   "execution_count": 16,
   "metadata": {},
   "outputs": [
    {
     "data": {
      "text/html": [
       "<div>\n",
       "<style scoped>\n",
       "    .dataframe tbody tr th:only-of-type {\n",
       "        vertical-align: middle;\n",
       "    }\n",
       "\n",
       "    .dataframe tbody tr th {\n",
       "        vertical-align: top;\n",
       "    }\n",
       "\n",
       "    .dataframe thead th {\n",
       "        text-align: right;\n",
       "    }\n",
       "</style>\n",
       "<table border=\"1\" class=\"dataframe\">\n",
       "  <thead>\n",
       "    <tr style=\"text-align: right;\">\n",
       "      <th></th>\n",
       "      <th>group</th>\n",
       "      <th>x</th>\n",
       "      <th>y</th>\n",
       "    </tr>\n",
       "  </thead>\n",
       "  <tbody>\n",
       "    <tr>\n",
       "      <th>Santa Cruz</th>\n",
       "      <td>1</td>\n",
       "      <td>6</td>\n",
       "      <td>15</td>\n",
       "    </tr>\n",
       "    <tr>\n",
       "      <th>Santa Barbara</th>\n",
       "      <td>2</td>\n",
       "      <td>7</td>\n",
       "      <td>17</td>\n",
       "    </tr>\n",
       "    <tr>\n",
       "      <th>Oakland</th>\n",
       "      <td>2</td>\n",
       "      <td>8</td>\n",
       "      <td>19</td>\n",
       "    </tr>\n",
       "    <tr>\n",
       "      <th>San Diego</th>\n",
       "      <td>2</td>\n",
       "      <td>9</td>\n",
       "      <td>21</td>\n",
       "    </tr>\n",
       "  </tbody>\n",
       "</table>\n",
       "</div>"
      ],
      "text/plain": [
       "              group  x   y\n",
       "Santa Cruz        1  6  15\n",
       "Santa Barbara     2  7  17\n",
       "Oakland           2  8  19\n",
       "San Diego         2  9  21"
      ]
     },
     "execution_count": 16,
     "metadata": {},
     "output_type": "execute_result"
    }
   ],
   "source": [
    "#Filter out these rows from the DataFrame\n",
    "new_filter_data = df[df['x']>5]\n",
    "new_filter_data"
   ]
  },
  {
   "cell_type": "markdown",
   "metadata": {},
   "source": [
    "2. We can also use `.isin()` function to check whether each elemnt in a certain column is contained in values. Every element in the specified column will be checked to see whether it is in the list:"
   ]
  },
  {
   "cell_type": "code",
   "execution_count": 17,
   "metadata": {},
   "outputs": [
    {
     "data": {
      "text/plain": [
       "Los Angeles      False\n",
       "Santa Barbara    False\n",
       "Sacramento       False\n",
       "Bakersfield      False\n",
       "San Francisco    False\n",
       "Santa Cruz        True\n",
       "Santa Barbara     True\n",
       "Oakland          False\n",
       "San Diego        False\n",
       "Name: x, dtype: bool"
      ]
     },
     "execution_count": 17,
     "metadata": {},
     "output_type": "execute_result"
    }
   ],
   "source": [
    "#check whether elements in column x contains 6 or 7\n",
    "df['x'].isin([6,7])"
   ]
  },
  {
   "cell_type": "markdown",
   "metadata": {},
   "source": [
    "Then, we can use the Boolean output to filter the DataFrame:"
   ]
  },
  {
   "cell_type": "code",
   "execution_count": 18,
   "metadata": {},
   "outputs": [
    {
     "data": {
      "text/html": [
       "<div>\n",
       "<style scoped>\n",
       "    .dataframe tbody tr th:only-of-type {\n",
       "        vertical-align: middle;\n",
       "    }\n",
       "\n",
       "    .dataframe tbody tr th {\n",
       "        vertical-align: top;\n",
       "    }\n",
       "\n",
       "    .dataframe thead th {\n",
       "        text-align: right;\n",
       "    }\n",
       "</style>\n",
       "<table border=\"1\" class=\"dataframe\">\n",
       "  <thead>\n",
       "    <tr style=\"text-align: right;\">\n",
       "      <th></th>\n",
       "      <th>group</th>\n",
       "      <th>x</th>\n",
       "      <th>y</th>\n",
       "    </tr>\n",
       "  </thead>\n",
       "  <tbody>\n",
       "    <tr>\n",
       "      <th>Santa Cruz</th>\n",
       "      <td>1</td>\n",
       "      <td>6</td>\n",
       "      <td>15</td>\n",
       "    </tr>\n",
       "    <tr>\n",
       "      <th>Santa Barbara</th>\n",
       "      <td>2</td>\n",
       "      <td>7</td>\n",
       "      <td>17</td>\n",
       "    </tr>\n",
       "  </tbody>\n",
       "</table>\n",
       "</div>"
      ],
      "text/plain": [
       "              group  x   y\n",
       "Santa Cruz        1  6  15\n",
       "Santa Barbara     2  7  17"
      ]
     },
     "execution_count": 18,
     "metadata": {},
     "output_type": "execute_result"
    }
   ],
   "source": [
    "df[df['x'].isin([6, 7])]"
   ]
  },
  {
   "cell_type": "markdown",
   "metadata": {},
   "source": [
    "3. We can also subset the DataFrame rows or columns according to the specified index labels using `filter`."
   ]
  },
  {
   "cell_type": "code",
   "execution_count": 19,
   "metadata": {},
   "outputs": [
    {
     "data": {
      "text/html": [
       "<div>\n",
       "<style scoped>\n",
       "    .dataframe tbody tr th:only-of-type {\n",
       "        vertical-align: middle;\n",
       "    }\n",
       "\n",
       "    .dataframe tbody tr th {\n",
       "        vertical-align: top;\n",
       "    }\n",
       "\n",
       "    .dataframe thead th {\n",
       "        text-align: right;\n",
       "    }\n",
       "</style>\n",
       "<table border=\"1\" class=\"dataframe\">\n",
       "  <thead>\n",
       "    <tr style=\"text-align: right;\">\n",
       "      <th></th>\n",
       "      <th>group</th>\n",
       "      <th>x</th>\n",
       "      <th>y</th>\n",
       "    </tr>\n",
       "  </thead>\n",
       "  <tbody>\n",
       "    <tr>\n",
       "      <th>Santa Barbara</th>\n",
       "      <td>1</td>\n",
       "      <td>2</td>\n",
       "      <td>7</td>\n",
       "    </tr>\n",
       "    <tr>\n",
       "      <th>San Francisco</th>\n",
       "      <td>1</td>\n",
       "      <td>5</td>\n",
       "      <td>13</td>\n",
       "    </tr>\n",
       "    <tr>\n",
       "      <th>Santa Cruz</th>\n",
       "      <td>1</td>\n",
       "      <td>6</td>\n",
       "      <td>15</td>\n",
       "    </tr>\n",
       "    <tr>\n",
       "      <th>Santa Barbara</th>\n",
       "      <td>2</td>\n",
       "      <td>7</td>\n",
       "      <td>17</td>\n",
       "    </tr>\n",
       "    <tr>\n",
       "      <th>San Diego</th>\n",
       "      <td>2</td>\n",
       "      <td>9</td>\n",
       "      <td>21</td>\n",
       "    </tr>\n",
       "  </tbody>\n",
       "</table>\n",
       "</div>"
      ],
      "text/plain": [
       "              group  x   y\n",
       "Santa Barbara     1  2   7\n",
       "San Francisco     1  5  13\n",
       "Santa Cruz        1  6  15\n",
       "Santa Barbara     2  7  17\n",
       "San Diego         2  9  21"
      ]
     },
     "execution_count": 19,
     "metadata": {},
     "output_type": "execute_result"
    }
   ],
   "source": [
    "#like: keep labels from axis for which “like in label == True”.\n",
    "#axis: the axis to filter on -- 0 or ‘index’, 1 or ‘columns’, None\n",
    "df.filter(like = 'San',axis = 0)"
   ]
  },
  {
   "cell_type": "code",
   "execution_count": 20,
   "metadata": {},
   "outputs": [],
   "source": [
    "#Apply your knoowledge \n",
    "#Please select the rows that x >5 and in group 1\n",
    "\n",
    "\n",
    "\n",
    "\n",
    "\n",
    "\n",
    "\n",
    "#Answer:\n",
    "#df[(df['x']>5) & (df['group']=='1')]"
   ]
  },
  {
   "cell_type": "markdown",
   "metadata": {},
   "source": [
    "#### Adding columns/rows to a DataFrame\n",
    "We can use `dataframe.append()` function to append rows of other DataFrame to the end of the given DataFrame, returning a new DataFrame object. Columns not in the original DataFrames are added as new columns and the new cells are populated with NaN value."
   ]
  },
  {
   "cell_type": "code",
   "execution_count": 21,
   "metadata": {},
   "outputs": [
    {
     "data": {
      "text/html": [
       "<div>\n",
       "<style scoped>\n",
       "    .dataframe tbody tr th:only-of-type {\n",
       "        vertical-align: middle;\n",
       "    }\n",
       "\n",
       "    .dataframe tbody tr th {\n",
       "        vertical-align: top;\n",
       "    }\n",
       "\n",
       "    .dataframe thead th {\n",
       "        text-align: right;\n",
       "    }\n",
       "</style>\n",
       "<table border=\"1\" class=\"dataframe\">\n",
       "  <thead>\n",
       "    <tr style=\"text-align: right;\">\n",
       "      <th></th>\n",
       "      <th>group</th>\n",
       "      <th>x</th>\n",
       "      <th>y</th>\n",
       "    </tr>\n",
       "  </thead>\n",
       "  <tbody>\n",
       "    <tr>\n",
       "      <th>Los Angeles</th>\n",
       "      <td>1</td>\n",
       "      <td>1</td>\n",
       "      <td>5</td>\n",
       "    </tr>\n",
       "    <tr>\n",
       "      <th>Santa Barbara</th>\n",
       "      <td>1</td>\n",
       "      <td>2</td>\n",
       "      <td>7</td>\n",
       "    </tr>\n",
       "    <tr>\n",
       "      <th>Sacramento</th>\n",
       "      <td>2</td>\n",
       "      <td>3</td>\n",
       "      <td>9</td>\n",
       "    </tr>\n",
       "    <tr>\n",
       "      <th>Bakersfield</th>\n",
       "      <td>2</td>\n",
       "      <td>4</td>\n",
       "      <td>11</td>\n",
       "    </tr>\n",
       "    <tr>\n",
       "      <th>San Francisco</th>\n",
       "      <td>1</td>\n",
       "      <td>5</td>\n",
       "      <td>13</td>\n",
       "    </tr>\n",
       "    <tr>\n",
       "      <th>Santa Cruz</th>\n",
       "      <td>1</td>\n",
       "      <td>6</td>\n",
       "      <td>15</td>\n",
       "    </tr>\n",
       "    <tr>\n",
       "      <th>Santa Barbara</th>\n",
       "      <td>2</td>\n",
       "      <td>7</td>\n",
       "      <td>17</td>\n",
       "    </tr>\n",
       "    <tr>\n",
       "      <th>Oakland</th>\n",
       "      <td>2</td>\n",
       "      <td>8</td>\n",
       "      <td>19</td>\n",
       "    </tr>\n",
       "    <tr>\n",
       "      <th>San Diego</th>\n",
       "      <td>2</td>\n",
       "      <td>9</td>\n",
       "      <td>21</td>\n",
       "    </tr>\n",
       "    <tr>\n",
       "      <th>San Jose</th>\n",
       "      <td>1</td>\n",
       "      <td>1</td>\n",
       "      <td>5</td>\n",
       "    </tr>\n",
       "  </tbody>\n",
       "</table>\n",
       "</div>"
      ],
      "text/plain": [
       "              group  x   y\n",
       "Los Angeles       1  1   5\n",
       "Santa Barbara     1  2   7\n",
       "Sacramento        2  3   9\n",
       "Bakersfield       2  4  11\n",
       "San Francisco     1  5  13\n",
       "Santa Cruz        1  6  15\n",
       "Santa Barbara     2  7  17\n",
       "Oakland           2  8  19\n",
       "San Diego         2  9  21\n",
       "San Jose          1  1   5"
      ]
     },
     "execution_count": 21,
     "metadata": {},
     "output_type": "execute_result"
    }
   ],
   "source": [
    "new_row = pandas.Series({'x':1, 'y':5,'group':'1'})\n",
    "new_row.name = 'San Jose'\n",
    "df = df.append(new_row)\n",
    "df"
   ]
  },
  {
   "cell_type": "markdown",
   "metadata": {},
   "source": [
    "To add a new column to a DataFrame, we can declare a new list or a new pandas.Series (see Series in Pandas section) as a column."
   ]
  },
  {
   "cell_type": "code",
   "execution_count": 22,
   "metadata": {},
   "outputs": [
    {
     "data": {
      "text/html": [
       "<div>\n",
       "<style scoped>\n",
       "    .dataframe tbody tr th:only-of-type {\n",
       "        vertical-align: middle;\n",
       "    }\n",
       "\n",
       "    .dataframe tbody tr th {\n",
       "        vertical-align: top;\n",
       "    }\n",
       "\n",
       "    .dataframe thead th {\n",
       "        text-align: right;\n",
       "    }\n",
       "</style>\n",
       "<table border=\"1\" class=\"dataframe\">\n",
       "  <thead>\n",
       "    <tr style=\"text-align: right;\">\n",
       "      <th></th>\n",
       "      <th>group</th>\n",
       "      <th>x</th>\n",
       "      <th>y</th>\n",
       "      <th>new</th>\n",
       "    </tr>\n",
       "  </thead>\n",
       "  <tbody>\n",
       "    <tr>\n",
       "      <th>Los Angeles</th>\n",
       "      <td>1</td>\n",
       "      <td>1</td>\n",
       "      <td>5</td>\n",
       "      <td>11</td>\n",
       "    </tr>\n",
       "    <tr>\n",
       "      <th>Santa Barbara</th>\n",
       "      <td>1</td>\n",
       "      <td>2</td>\n",
       "      <td>7</td>\n",
       "      <td>15</td>\n",
       "    </tr>\n",
       "    <tr>\n",
       "      <th>Sacramento</th>\n",
       "      <td>2</td>\n",
       "      <td>3</td>\n",
       "      <td>9</td>\n",
       "      <td>19</td>\n",
       "    </tr>\n",
       "    <tr>\n",
       "      <th>Bakersfield</th>\n",
       "      <td>2</td>\n",
       "      <td>4</td>\n",
       "      <td>11</td>\n",
       "      <td>23</td>\n",
       "    </tr>\n",
       "    <tr>\n",
       "      <th>San Francisco</th>\n",
       "      <td>1</td>\n",
       "      <td>5</td>\n",
       "      <td>13</td>\n",
       "      <td>27</td>\n",
       "    </tr>\n",
       "  </tbody>\n",
       "</table>\n",
       "</div>"
      ],
      "text/plain": [
       "              group  x   y  new\n",
       "Los Angeles       1  1   5   11\n",
       "Santa Barbara     1  2   7   15\n",
       "Sacramento        2  3   9   19\n",
       "Bakersfield       2  4  11   23\n",
       "San Francisco     1  5  13   27"
      ]
     },
     "execution_count": 22,
     "metadata": {},
     "output_type": "execute_result"
    }
   ],
   "source": [
    "df['new']=df['y']*2+1\n",
    "type(df['y']*2+1)\n",
    "df.head()"
   ]
  },
  {
   "cell_type": "markdown",
   "metadata": {},
   "source": [
    "#### Group By: split-apply-combine\n",
    "We can use `groupby` operation to \n",
    "1. split the data into groups based on some cirteria: pass the name of the column you want to group on in `groupby()`\n",
    "2. apply a function to each group independently: `mean()`, `count()`, `median()`, etc\n",
    "3. combine the results into data structure. \n",
    "\n",
    "This can be used to group large amounts of data and compute operations on these groups. "
   ]
  },
  {
   "cell_type": "code",
   "execution_count": 23,
   "metadata": {},
   "outputs": [
    {
     "name": "stdout",
     "output_type": "stream",
     "text": [
      "         x     y   new\n",
      "group                 \n",
      "1      3.0   9.0  19.0\n",
      "2      6.2  15.4  31.8\n"
     ]
    }
   ],
   "source": [
    "#separate our DataFrame into groups according to the column group\n",
    "#calculate mean values for each group, each column\n",
    "mean_group = df.groupby('group').mean()\n",
    "print(mean_group)"
   ]
  },
  {
   "cell_type": "code",
   "execution_count": 24,
   "metadata": {},
   "outputs": [],
   "source": [
    "#Apply your knowledge\n",
    "#Calculate the count of each group\n",
    "\n",
    "\n",
    "\n",
    "\n",
    "#Answer:\n",
    "#df.groupby('group').count()"
   ]
  },
  {
   "cell_type": "markdown",
   "metadata": {},
   "source": [
    "We can use `[column name]` after `groupby()` to specify the columns on which we would like to perform the function:"
   ]
  },
  {
   "cell_type": "code",
   "execution_count": 25,
   "metadata": {},
   "outputs": [
    {
     "name": "stdout",
     "output_type": "stream",
     "text": [
      "group\n",
      "1    3.0\n",
      "2    6.2\n",
      "Name: x, dtype: float64\n"
     ]
    }
   ],
   "source": [
    "mean_groupx = df.groupby('group')['x'].mean()\n",
    "print(mean_groupx)"
   ]
  },
  {
   "cell_type": "markdown",
   "metadata": {},
   "source": [
    "To perform multiple basic functions, we can use `dataframe.aggregate()`:"
   ]
  },
  {
   "cell_type": "code",
   "execution_count": 26,
   "metadata": {},
   "outputs": [
    {
     "data": {
      "text/html": [
       "<div>\n",
       "<style scoped>\n",
       "    .dataframe tbody tr th:only-of-type {\n",
       "        vertical-align: middle;\n",
       "    }\n",
       "\n",
       "    .dataframe tbody tr th {\n",
       "        vertical-align: top;\n",
       "    }\n",
       "\n",
       "    .dataframe thead th {\n",
       "        text-align: right;\n",
       "    }\n",
       "</style>\n",
       "<table border=\"1\" class=\"dataframe\">\n",
       "  <thead>\n",
       "    <tr style=\"text-align: right;\">\n",
       "      <th></th>\n",
       "      <th>mean</th>\n",
       "      <th>min</th>\n",
       "    </tr>\n",
       "    <tr>\n",
       "      <th>group</th>\n",
       "      <th></th>\n",
       "      <th></th>\n",
       "    </tr>\n",
       "  </thead>\n",
       "  <tbody>\n",
       "    <tr>\n",
       "      <th>1</th>\n",
       "      <td>3.0</td>\n",
       "      <td>1</td>\n",
       "    </tr>\n",
       "    <tr>\n",
       "      <th>2</th>\n",
       "      <td>6.2</td>\n",
       "      <td>3</td>\n",
       "    </tr>\n",
       "  </tbody>\n",
       "</table>\n",
       "</div>"
      ],
      "text/plain": [
       "       mean  min\n",
       "group           \n",
       "1       3.0    1\n",
       "2       6.2    3"
      ]
     },
     "execution_count": 26,
     "metadata": {},
     "output_type": "execute_result"
    }
   ],
   "source": [
    "df.groupby('group')['x'].aggregate(['mean','min'])\n",
    "#df.groupby('group')['x'].aggregate(['mean']) is the same as df.groupby('group')['x'].mean()"
   ]
  },
  {
   "cell_type": "markdown",
   "metadata": {},
   "source": [
    "However, functions that are available for `aggregate()` are limited. Here are the 13 aggregating functions available in pandas:\n",
    "* mean(): Compute mean of groups\n",
    "* sum(): Compute sum of group values\n",
    "* size(): Compute group sizes\n",
    "* count(): Compute count of group\n",
    "* std(): Standard deviation of groups\n",
    "* var(): Compute variance of groups\n",
    "* sem(): Standard error of the mean of groups\n",
    "* describe(): Generates descriptive statistics\n",
    "* first(): Compute first of group values\n",
    "* last(): Compute last of group values\n",
    "* nth() : Take nth value, or a subset if n is a list\n",
    "* min(): Compute min of group values\n",
    "* max(): Compute max of group values"
   ]
  },
  {
   "cell_type": "markdown",
   "metadata": {},
   "source": [
    "To be more flexible, we can use `apply` function which applyes a function along an axis of the DataFrame.\n",
    "\n",
    "Objects passed to the function are Series objects whose index is either the DataFrame’s index (axis=0) or the DataFrame’s columns (axis=1). By default (result_type=None), the final return type is inferred from the return type of the applied function. Otherwise, it depends on the result_type argument."
   ]
  },
  {
   "cell_type": "code",
   "execution_count": 27,
   "metadata": {},
   "outputs": [
    {
     "data": {
      "text/html": [
       "<div>\n",
       "<style scoped>\n",
       "    .dataframe tbody tr th:only-of-type {\n",
       "        vertical-align: middle;\n",
       "    }\n",
       "\n",
       "    .dataframe tbody tr th {\n",
       "        vertical-align: top;\n",
       "    }\n",
       "\n",
       "    .dataframe thead th {\n",
       "        text-align: right;\n",
       "    }\n",
       "</style>\n",
       "<table border=\"1\" class=\"dataframe\">\n",
       "  <thead>\n",
       "    <tr style=\"text-align: right;\">\n",
       "      <th></th>\n",
       "      <th>city</th>\n",
       "      <th>group</th>\n",
       "      <th>x</th>\n",
       "      <th>y</th>\n",
       "      <th>new</th>\n",
       "    </tr>\n",
       "  </thead>\n",
       "  <tbody>\n",
       "    <tr>\n",
       "      <th>0</th>\n",
       "      <td>Los Angeles</td>\n",
       "      <td>1</td>\n",
       "      <td>1</td>\n",
       "      <td>5</td>\n",
       "      <td>11</td>\n",
       "    </tr>\n",
       "    <tr>\n",
       "      <th>1</th>\n",
       "      <td>Santa Barbara</td>\n",
       "      <td>1</td>\n",
       "      <td>2</td>\n",
       "      <td>7</td>\n",
       "      <td>15</td>\n",
       "    </tr>\n",
       "    <tr>\n",
       "      <th>2</th>\n",
       "      <td>Sacramento</td>\n",
       "      <td>2</td>\n",
       "      <td>3</td>\n",
       "      <td>9</td>\n",
       "      <td>19</td>\n",
       "    </tr>\n",
       "    <tr>\n",
       "      <th>3</th>\n",
       "      <td>Bakersfield</td>\n",
       "      <td>2</td>\n",
       "      <td>4</td>\n",
       "      <td>11</td>\n",
       "      <td>23</td>\n",
       "    </tr>\n",
       "    <tr>\n",
       "      <th>4</th>\n",
       "      <td>San Francisco</td>\n",
       "      <td>1</td>\n",
       "      <td>5</td>\n",
       "      <td>13</td>\n",
       "      <td>27</td>\n",
       "    </tr>\n",
       "    <tr>\n",
       "      <th>5</th>\n",
       "      <td>Santa Cruz</td>\n",
       "      <td>1</td>\n",
       "      <td>6</td>\n",
       "      <td>15</td>\n",
       "      <td>31</td>\n",
       "    </tr>\n",
       "    <tr>\n",
       "      <th>6</th>\n",
       "      <td>Santa Barbara</td>\n",
       "      <td>2</td>\n",
       "      <td>7</td>\n",
       "      <td>17</td>\n",
       "      <td>35</td>\n",
       "    </tr>\n",
       "    <tr>\n",
       "      <th>7</th>\n",
       "      <td>Oakland</td>\n",
       "      <td>2</td>\n",
       "      <td>8</td>\n",
       "      <td>19</td>\n",
       "      <td>39</td>\n",
       "    </tr>\n",
       "    <tr>\n",
       "      <th>8</th>\n",
       "      <td>San Diego</td>\n",
       "      <td>2</td>\n",
       "      <td>9</td>\n",
       "      <td>21</td>\n",
       "      <td>43</td>\n",
       "    </tr>\n",
       "    <tr>\n",
       "      <th>9</th>\n",
       "      <td>San Jose</td>\n",
       "      <td>1</td>\n",
       "      <td>1</td>\n",
       "      <td>5</td>\n",
       "      <td>11</td>\n",
       "    </tr>\n",
       "  </tbody>\n",
       "</table>\n",
       "</div>"
      ],
      "text/plain": [
       "            city group  x   y  new\n",
       "0    Los Angeles     1  1   5   11\n",
       "1  Santa Barbara     1  2   7   15\n",
       "2     Sacramento     2  3   9   19\n",
       "3    Bakersfield     2  4  11   23\n",
       "4  San Francisco     1  5  13   27\n",
       "5     Santa Cruz     1  6  15   31\n",
       "6  Santa Barbara     2  7  17   35\n",
       "7        Oakland     2  8  19   39\n",
       "8      San Diego     2  9  21   43\n",
       "9       San Jose     1  1   5   11"
      ]
     },
     "execution_count": 27,
     "metadata": {},
     "output_type": "execute_result"
    }
   ],
   "source": [
    "#let's reset the index \n",
    "df = df = df.reset_index().rename(columns={'index': 'city'})\n",
    "df"
   ]
  },
  {
   "cell_type": "code",
   "execution_count": 28,
   "metadata": {},
   "outputs": [
    {
     "data": {
      "text/html": [
       "<div>\n",
       "<style scoped>\n",
       "    .dataframe tbody tr th:only-of-type {\n",
       "        vertical-align: middle;\n",
       "    }\n",
       "\n",
       "    .dataframe tbody tr th {\n",
       "        vertical-align: top;\n",
       "    }\n",
       "\n",
       "    .dataframe thead th {\n",
       "        text-align: right;\n",
       "    }\n",
       "</style>\n",
       "<table border=\"1\" class=\"dataframe\">\n",
       "  <thead>\n",
       "    <tr style=\"text-align: right;\">\n",
       "      <th></th>\n",
       "      <th>city</th>\n",
       "      <th>group</th>\n",
       "      <th>x</th>\n",
       "      <th>y</th>\n",
       "      <th>new</th>\n",
       "      <th>max_xvalues</th>\n",
       "      <th>min_xvalues</th>\n",
       "      <th>meanx_sub_meany</th>\n",
       "    </tr>\n",
       "  </thead>\n",
       "  <tbody>\n",
       "    <tr>\n",
       "      <th>0</th>\n",
       "      <td>Los Angeles</td>\n",
       "      <td>1</td>\n",
       "      <td>1</td>\n",
       "      <td>5</td>\n",
       "      <td>11</td>\n",
       "      <td>6</td>\n",
       "      <td>1</td>\n",
       "      <td>-6.0</td>\n",
       "    </tr>\n",
       "    <tr>\n",
       "      <th>1</th>\n",
       "      <td>Santa Barbara</td>\n",
       "      <td>1</td>\n",
       "      <td>2</td>\n",
       "      <td>7</td>\n",
       "      <td>15</td>\n",
       "      <td>6</td>\n",
       "      <td>1</td>\n",
       "      <td>-6.0</td>\n",
       "    </tr>\n",
       "    <tr>\n",
       "      <th>2</th>\n",
       "      <td>Sacramento</td>\n",
       "      <td>2</td>\n",
       "      <td>3</td>\n",
       "      <td>9</td>\n",
       "      <td>19</td>\n",
       "      <td>9</td>\n",
       "      <td>3</td>\n",
       "      <td>-9.2</td>\n",
       "    </tr>\n",
       "    <tr>\n",
       "      <th>3</th>\n",
       "      <td>Bakersfield</td>\n",
       "      <td>2</td>\n",
       "      <td>4</td>\n",
       "      <td>11</td>\n",
       "      <td>23</td>\n",
       "      <td>9</td>\n",
       "      <td>3</td>\n",
       "      <td>-9.2</td>\n",
       "    </tr>\n",
       "    <tr>\n",
       "      <th>4</th>\n",
       "      <td>San Francisco</td>\n",
       "      <td>1</td>\n",
       "      <td>5</td>\n",
       "      <td>13</td>\n",
       "      <td>27</td>\n",
       "      <td>6</td>\n",
       "      <td>1</td>\n",
       "      <td>-6.0</td>\n",
       "    </tr>\n",
       "    <tr>\n",
       "      <th>5</th>\n",
       "      <td>Santa Cruz</td>\n",
       "      <td>1</td>\n",
       "      <td>6</td>\n",
       "      <td>15</td>\n",
       "      <td>31</td>\n",
       "      <td>6</td>\n",
       "      <td>1</td>\n",
       "      <td>-6.0</td>\n",
       "    </tr>\n",
       "    <tr>\n",
       "      <th>6</th>\n",
       "      <td>Santa Barbara</td>\n",
       "      <td>2</td>\n",
       "      <td>7</td>\n",
       "      <td>17</td>\n",
       "      <td>35</td>\n",
       "      <td>9</td>\n",
       "      <td>3</td>\n",
       "      <td>-9.2</td>\n",
       "    </tr>\n",
       "    <tr>\n",
       "      <th>7</th>\n",
       "      <td>Oakland</td>\n",
       "      <td>2</td>\n",
       "      <td>8</td>\n",
       "      <td>19</td>\n",
       "      <td>39</td>\n",
       "      <td>9</td>\n",
       "      <td>3</td>\n",
       "      <td>-9.2</td>\n",
       "    </tr>\n",
       "    <tr>\n",
       "      <th>8</th>\n",
       "      <td>San Diego</td>\n",
       "      <td>2</td>\n",
       "      <td>9</td>\n",
       "      <td>21</td>\n",
       "      <td>43</td>\n",
       "      <td>9</td>\n",
       "      <td>3</td>\n",
       "      <td>-9.2</td>\n",
       "    </tr>\n",
       "    <tr>\n",
       "      <th>9</th>\n",
       "      <td>San Jose</td>\n",
       "      <td>1</td>\n",
       "      <td>1</td>\n",
       "      <td>5</td>\n",
       "      <td>11</td>\n",
       "      <td>6</td>\n",
       "      <td>1</td>\n",
       "      <td>-6.0</td>\n",
       "    </tr>\n",
       "  </tbody>\n",
       "</table>\n",
       "</div>"
      ],
      "text/plain": [
       "            city group  x   y  new  max_xvalues  min_xvalues  meanx_sub_meany\n",
       "0    Los Angeles     1  1   5   11            6            1             -6.0\n",
       "1  Santa Barbara     1  2   7   15            6            1             -6.0\n",
       "2     Sacramento     2  3   9   19            9            3             -9.2\n",
       "3    Bakersfield     2  4  11   23            9            3             -9.2\n",
       "4  San Francisco     1  5  13   27            6            1             -6.0\n",
       "5     Santa Cruz     1  6  15   31            6            1             -6.0\n",
       "6  Santa Barbara     2  7  17   35            9            3             -9.2\n",
       "7        Oakland     2  8  19   39            9            3             -9.2\n",
       "8      San Diego     2  9  21   43            9            3             -9.2\n",
       "9       San Jose     1  1   5   11            6            1             -6.0"
      ]
     },
     "execution_count": 28,
     "metadata": {},
     "output_type": "execute_result"
    }
   ],
   "source": [
    "#define a function \n",
    "def subfunc(input_df):\n",
    "    input_df['max_xvalues'] = max(input_df.x)\n",
    "    input_df['min_xvalues'] = min(input_df.x)\n",
    "    input_df['meanx_sub_meany'] = numpy.mean(input_df.x)-numpy.mean(input_df.y)\n",
    "    return input_df\n",
    "#apply the function to each group\n",
    "df.groupby('group').apply(subfunc)"
   ]
  },
  {
   "cell_type": "markdown",
   "metadata": {},
   "source": [
    "## Reading and working with data\n",
    "\n",
    "Now, let's read a real dataset from disk and show how we would work with it using Pandas.\n",
    "\n",
    "We will use a real dataset from [Eisenberg et al, 2019](nature.com/articles/s41467-019-10301-1), which contains data for 522 individuals on 192 variables derived from a set of psychological tasks.  Let's say that we want to know whether the stop signal reaction time (SSRT - measured across several different tasks) is related to self-reported impulsivity (as measured using a number of different surveys).  \n",
    "\n",
    "First we load the data.  The subject codes are contained in the first column, and we tell pandas to use those codes as the index for the DataFrame."
   ]
  },
  {
   "cell_type": "code",
   "execution_count": 29,
   "metadata": {},
   "outputs": [],
   "source": [
    "data = pandas.read_csv('./data/meaningful_variables_clean.csv', index_col=0)"
   ]
  },
  {
   "cell_type": "markdown",
   "metadata": {},
   "source": [
    "Once we have loaded the data, let's take a look at the DataFrame:"
   ]
  },
  {
   "cell_type": "code",
   "execution_count": 30,
   "metadata": {},
   "outputs": [],
   "source": [
    "#Apply your knowledge\n",
    "#how to check the first few rows of the DataFrame? (take a look at the data)?\n",
    "\n",
    "\n",
    "#how to see column names of a DataFrame?\n",
    "\n",
    "\n",
    "\n",
    "#Answer:\n",
    "#data.head()\n",
    "#data.columns"
   ]
  },
  {
   "cell_type": "markdown",
   "metadata": {},
   "source": [
    "To perform our analysis, we need to select the variables that we will use for the analysis. First, let's find the SSRT variables.  To do this, we will loop through all of the variable names and find the ones that include \"ssrt\". "
   ]
  },
  {
   "cell_type": "markdown",
   "metadata": {},
   "source": [
    "Let's loop through all of the column names and save the ones that have 'ssrt' in their name.  We will learn more about processing strings in a later section; here we will introduce the ```.find()``` operator that is present for strings.  This operator tells us the location of a particular string within another string, or returns -1 if the string is not present.  For example:"
   ]
  },
  {
   "cell_type": "code",
   "execution_count": 31,
   "metadata": {},
   "outputs": [
    {
     "name": "stdout",
     "output_type": "stream",
     "text": [
      "2\n",
      "-1\n"
     ]
    }
   ],
   "source": [
    "a = 'This is a string'\n",
    "print(a.find('is'))\n",
    "print(a.find('number'))"
   ]
  },
  {
   "cell_type": "markdown",
   "metadata": {},
   "source": [
    "Let's find out all column names that contain \".SSRT\":"
   ]
  },
  {
   "cell_type": "code",
   "execution_count": 32,
   "metadata": {},
   "outputs": [],
   "source": [
    "#First find SSRT variables\n",
    "#Use what you have learned to check all column names to see which ones contain '.SSRT' \n",
    "#and save the names to ssrt_variables\n",
    "ssrt_variables = []  # empty list to save names\n",
    "#hint: s.append(x): appends x to the end of the sequence\n",
    "#advance: can you use one line of code to achieve th goal (hint:list comprehension)?\n",
    "#advance: can you use .filter function?\n",
    "\n",
    "\n",
    "\n",
    "\n",
    "\n",
    "\n",
    "\n",
    "\n",
    "#Answer:\n",
    "# for c in data.columns:\n",
    "#     if c.find('.SSRT') > -1:\n",
    "#         ssrt_variables.append(c)\n",
    "        \n",
    "# print(ssrt_variables)\n",
    "\n",
    "\n",
    "#ssrt_variables = [c for c in data.columns if \".SSRT\" in c]\n",
    "#data.filter(like = '.SSRT',axis = 1)"
   ]
  },
  {
   "cell_type": "markdown",
   "metadata": {},
   "source": [
    "So far we have found the variables of interest for SSRT.  However, if we want to find other variables of interest, we need to repeate the same code, which is in bad form.  What we should do instead is find a way to loop through the variables we are interested in, so that if we decide that we want to add more then we can do that easily later.  First, we should set up a dictionary that contains all of the search strings for each data type."
   ]
  },
  {
   "cell_type": "code",
   "execution_count": 33,
   "metadata": {},
   "outputs": [
    {
     "name": "stdout",
     "output_type": "stream",
     "text": [
      "{'Dickman': 'dickman', 'BIS-11': 'bis11', 'SSRT': '.SSRT', 'UPPS-P': 'upps'}\n"
     ]
    }
   ],
   "source": [
    "search_strings = {\n",
    "    'SSRT': '.SSRT',\n",
    "    'BIS-11': 'bis11',\n",
    "    'UPPS-P': 'upps',\n",
    "    'Dickman': 'dickman'\n",
    "}\n",
    "print(search_strings)"
   ]
  },
  {
   "cell_type": "markdown",
   "metadata": {},
   "source": [
    "Now let's adapt the code above to loop through the different variables.  Tip: Putting a dictionary as the sequence in a for loop causes it to loop over all of the keys in the dictionary."
   ]
  },
  {
   "cell_type": "code",
   "execution_count": 34,
   "metadata": {},
   "outputs": [
    {
     "name": "stdout",
     "output_type": "stream",
     "text": [
      "{'BIS-11': ['bis11_survey.Attentional',\n",
      "            'bis11_survey.Motor.logTr',\n",
      "            'bis11_survey.Nonplanning'],\n",
      " 'Dickman': ['dickman_survey.functional'],\n",
      " 'SSRT': ['motor_selective_stop_signal.SSRT',\n",
      "          'stim_selective_stop_signal.SSRT',\n",
      "          'stop_signal.SSRT_high.logTr',\n",
      "          'stop_signal.SSRT_low'],\n",
      " 'UPPS-P': ['upps_impulsivity_survey.lack_of_perseverance',\n",
      "            'upps_impulsivity_survey.lack_of_premeditation',\n",
      "            'upps_impulsivity_survey.negative_urgency',\n",
      "            'upps_impulsivity_survey.positive_urgency',\n",
      "            'upps_impulsivity_survey.sensation_seeking']}\n",
      "['dickman_survey.functional', 'bis11_survey.Attentional', 'bis11_survey.Motor.logTr', 'bis11_survey.Nonplanning', 'motor_selective_stop_signal.SSRT', 'stim_selective_stop_signal.SSRT', 'stop_signal.SSRT_high.logTr', 'stop_signal.SSRT_low', 'upps_impulsivity_survey.lack_of_perseverance', 'upps_impulsivity_survey.lack_of_premeditation', 'upps_impulsivity_survey.negative_urgency', 'upps_impulsivity_survey.positive_urgency', 'upps_impulsivity_survey.sensation_seeking']\n"
     ]
    }
   ],
   "source": [
    "variable_names = {}\n",
    "variables_to_keep=[]#collect all the variable names to select them from the DataFrame\n",
    "for ss in search_strings:#loop through the keys in the dictionary\n",
    "    variable_names[ss] = []  # create empty list to store matching names for this string\n",
    "    for c in data.columns:#loop through the column names\n",
    "        if c.find(search_strings[ss]) > -1:\n",
    "            variable_names[ss].append(c)\n",
    "            variables_to_keep.append(c)#collect all column names that meet our criteria\n",
    "\n",
    "pprint(variable_names)\n",
    "print(variables_to_keep)"
   ]
  },
  {
   "cell_type": "markdown",
   "metadata": {},
   "source": [
    "Now that we have found all of the relevant variables, let's create a new DataFrame that only includes those variables.  We have already created a list with all of the matching variables in the above for loops (`variables_to_keep`). Now we can use the list to filter the DataFrame for these columns."
   ]
  },
  {
   "cell_type": "code",
   "execution_count": 35,
   "metadata": {},
   "outputs": [
    {
     "data": {
      "text/plain": [
       "(522, 13)"
      ]
     },
     "execution_count": 35,
     "metadata": {},
     "output_type": "execute_result"
    }
   ],
   "source": [
    "data_selected = data[variables_to_keep]\n",
    "data_selected.columns\n",
    "data_selected.shape"
   ]
  },
  {
   "cell_type": "markdown",
   "metadata": {},
   "source": [
    "Now, let's clean up the data. If we want to know which cells contain na values, we can use `.isna()` to identify all the na values in a DataFrame. We can also use `.fillna` to replace the na values with other values. "
   ]
  },
  {
   "cell_type": "code",
   "execution_count": 36,
   "metadata": {},
   "outputs": [
    {
     "name": "stdout",
     "output_type": "stream",
     "text": [
      "      dickman_survey.functional  bis11_survey.Attentional  \\\n",
      "s554                      False                     False   \n",
      "s556                      False                     False   \n",
      "s557                      False                     False   \n",
      "s559                      False                     False   \n",
      "s560                      False                     False   \n",
      "\n",
      "      bis11_survey.Motor.logTr  bis11_survey.Nonplanning  \\\n",
      "s554                     False                     False   \n",
      "s556                     False                     False   \n",
      "s557                     False                     False   \n",
      "s559                     False                     False   \n",
      "s560                     False                     False   \n",
      "\n",
      "      motor_selective_stop_signal.SSRT  stim_selective_stop_signal.SSRT  \\\n",
      "s554                              True                            False   \n",
      "s556                              True                            False   \n",
      "s557                              True                             True   \n",
      "s559                             False                            False   \n",
      "s560                             False                            False   \n",
      "\n",
      "      stop_signal.SSRT_high.logTr  stop_signal.SSRT_low  \\\n",
      "s554                        False                 False   \n",
      "s556                         True                  True   \n",
      "s557                         True                  True   \n",
      "s559                        False                 False   \n",
      "s560                        False                 False   \n",
      "\n",
      "      upps_impulsivity_survey.lack_of_perseverance  \\\n",
      "s554                                         False   \n",
      "s556                                         False   \n",
      "s557                                         False   \n",
      "s559                                         False   \n",
      "s560                                         False   \n",
      "\n",
      "      upps_impulsivity_survey.lack_of_premeditation  \\\n",
      "s554                                          False   \n",
      "s556                                          False   \n",
      "s557                                          False   \n",
      "s559                                          False   \n",
      "s560                                          False   \n",
      "\n",
      "      upps_impulsivity_survey.negative_urgency  \\\n",
      "s554                                     False   \n",
      "s556                                     False   \n",
      "s557                                     False   \n",
      "s559                                     False   \n",
      "s560                                     False   \n",
      "\n",
      "      upps_impulsivity_survey.positive_urgency  \\\n",
      "s554                                     False   \n",
      "s556                                     False   \n",
      "s557                                     False   \n",
      "s559                                     False   \n",
      "s560                                     False   \n",
      "\n",
      "      upps_impulsivity_survey.sensation_seeking  \n",
      "s554                                      False  \n",
      "s556                                      False  \n",
      "s557                                      False  \n",
      "s559                                      False  \n",
      "s560                                      False  \n"
     ]
    }
   ],
   "source": [
    "print(data_selected.isna().tail())\n"
   ]
  },
  {
   "cell_type": "code",
   "execution_count": 37,
   "metadata": {},
   "outputs": [
    {
     "name": "stdout",
     "output_type": "stream",
     "text": [
      "      dickman_survey.functional  bis11_survey.Attentional  \\\n",
      "s001                   2.000000                  2.533333   \n",
      "s002                   1.363636                  5.000000   \n",
      "s003                   1.545455                  4.266667   \n",
      "s004                   1.545455                  2.333333   \n",
      "s005                   1.727273                  3.533333   \n",
      "\n",
      "      bis11_survey.Motor.logTr  bis11_survey.Nonplanning  \\\n",
      "s001                  0.985284                  3.300000   \n",
      "s002                  1.377326                  5.466667   \n",
      "s003                  1.272966                  4.766667   \n",
      "s004                  1.074515                  4.466667   \n",
      "s005                  1.252763                  3.633333   \n",
      "\n",
      "      motor_selective_stop_signal.SSRT  stim_selective_stop_signal.SSRT  \\\n",
      "s001                          0.000000                       337.833333   \n",
      "s002                          0.000000                       291.333333   \n",
      "s003                        332.666667                       402.166667   \n",
      "s004                        231.833333                       282.000000   \n",
      "s005                        344.166667                       432.666667   \n",
      "\n",
      "      stop_signal.SSRT_high.logTr  stop_signal.SSRT_low  \\\n",
      "s001                     5.651904            271.500000   \n",
      "s002                     5.678465            323.666667   \n",
      "s003                     0.000000              0.000000   \n",
      "s004                     5.513429            281.500000   \n",
      "s005                     5.520127            302.500000   \n",
      "\n",
      "      upps_impulsivity_survey.lack_of_perseverance  \\\n",
      "s001                                           1.5   \n",
      "s002                                           1.5   \n",
      "s003                                           2.4   \n",
      "s004                                           1.5   \n",
      "s005                                           1.7   \n",
      "\n",
      "      upps_impulsivity_survey.lack_of_premeditation  \\\n",
      "s001                                       1.909091   \n",
      "s002                                       2.090909   \n",
      "s003                                       2.363636   \n",
      "s004                                       1.636364   \n",
      "s005                                       1.363636   \n",
      "\n",
      "      upps_impulsivity_survey.negative_urgency  \\\n",
      "s001                                  1.583333   \n",
      "s002                                  3.000000   \n",
      "s003                                  3.000000   \n",
      "s004                                  1.583333   \n",
      "s005                                  1.750000   \n",
      "\n",
      "      upps_impulsivity_survey.positive_urgency  \\\n",
      "s001                                  2.142857   \n",
      "s002                                  3.285714   \n",
      "s003                                  2.785714   \n",
      "s004                                  1.142857   \n",
      "s005                                  1.000000   \n",
      "\n",
      "      upps_impulsivity_survey.sensation_seeking  \n",
      "s001                                   3.416667  \n",
      "s002                                   3.083333  \n",
      "s003                                   2.833333  \n",
      "s004                                   1.916667  \n",
      "s005                                   2.833333  \n"
     ]
    }
   ],
   "source": [
    "print(data_selected.fillna(0).head())#this is replacing NA with 0"
   ]
  },
  {
   "cell_type": "markdown",
   "metadata": {},
   "source": [
    "We can remove all of the missing data, using the ```.dropna()``` operator.  "
   ]
  },
  {
   "cell_type": "code",
   "execution_count": 38,
   "metadata": {},
   "outputs": [
    {
     "name": "stdout",
     "output_type": "stream",
     "text": [
      "(320, 13)\n"
     ]
    }
   ],
   "source": [
    "data_selected = data[variables_to_keep]\n",
    "data_selected = data_selected.dropna()\n",
    "print(data_selected.shape)\n"
   ]
  },
  {
   "cell_type": "markdown",
   "metadata": {},
   "source": [
    "The adventage of using dictionary is that we can flexiblely select columns based on the column name groups. For example, now we can compute the average of all SSRT variables and the average of all of the impulsivity variables.  "
   ]
  },
  {
   "cell_type": "code",
   "execution_count": 39,
   "metadata": {},
   "outputs": [
    {
     "data": {
      "text/html": [
       "<div>\n",
       "<style scoped>\n",
       "    .dataframe tbody tr th:only-of-type {\n",
       "        vertical-align: middle;\n",
       "    }\n",
       "\n",
       "    .dataframe tbody tr th {\n",
       "        vertical-align: top;\n",
       "    }\n",
       "\n",
       "    .dataframe thead th {\n",
       "        text-align: right;\n",
       "    }\n",
       "</style>\n",
       "<table border=\"1\" class=\"dataframe\">\n",
       "  <thead>\n",
       "    <tr style=\"text-align: right;\">\n",
       "      <th></th>\n",
       "      <th>dickman_survey.functional</th>\n",
       "      <th>bis11_survey.Attentional</th>\n",
       "      <th>bis11_survey.Motor.logTr</th>\n",
       "      <th>bis11_survey.Nonplanning</th>\n",
       "      <th>motor_selective_stop_signal.SSRT</th>\n",
       "      <th>stim_selective_stop_signal.SSRT</th>\n",
       "      <th>stop_signal.SSRT_high.logTr</th>\n",
       "      <th>stop_signal.SSRT_low</th>\n",
       "      <th>upps_impulsivity_survey.lack_of_perseverance</th>\n",
       "      <th>upps_impulsivity_survey.lack_of_premeditation</th>\n",
       "      <th>upps_impulsivity_survey.negative_urgency</th>\n",
       "      <th>upps_impulsivity_survey.positive_urgency</th>\n",
       "      <th>upps_impulsivity_survey.sensation_seeking</th>\n",
       "      <th>mean_SSRT</th>\n",
       "    </tr>\n",
       "  </thead>\n",
       "  <tbody>\n",
       "    <tr>\n",
       "      <th>s004</th>\n",
       "      <td>1.545455</td>\n",
       "      <td>2.333333</td>\n",
       "      <td>1.074515</td>\n",
       "      <td>4.466667</td>\n",
       "      <td>231.833333</td>\n",
       "      <td>282.000000</td>\n",
       "      <td>5.513429</td>\n",
       "      <td>281.500000</td>\n",
       "      <td>1.5</td>\n",
       "      <td>1.636364</td>\n",
       "      <td>1.583333</td>\n",
       "      <td>1.142857</td>\n",
       "      <td>1.916667</td>\n",
       "      <td>200.211691</td>\n",
       "    </tr>\n",
       "    <tr>\n",
       "      <th>s005</th>\n",
       "      <td>1.727273</td>\n",
       "      <td>3.533333</td>\n",
       "      <td>1.252763</td>\n",
       "      <td>3.633333</td>\n",
       "      <td>344.166667</td>\n",
       "      <td>432.666667</td>\n",
       "      <td>5.520127</td>\n",
       "      <td>302.500000</td>\n",
       "      <td>1.7</td>\n",
       "      <td>1.363636</td>\n",
       "      <td>1.750000</td>\n",
       "      <td>1.000000</td>\n",
       "      <td>2.833333</td>\n",
       "      <td>271.213365</td>\n",
       "    </tr>\n",
       "    <tr>\n",
       "      <th>s009</th>\n",
       "      <td>1.090909</td>\n",
       "      <td>4.933333</td>\n",
       "      <td>1.573070</td>\n",
       "      <td>5.300000</td>\n",
       "      <td>199.333333</td>\n",
       "      <td>225.166667</td>\n",
       "      <td>5.228431</td>\n",
       "      <td>206.500000</td>\n",
       "      <td>2.7</td>\n",
       "      <td>2.727273</td>\n",
       "      <td>3.000000</td>\n",
       "      <td>3.000000</td>\n",
       "      <td>2.333333</td>\n",
       "      <td>159.057108</td>\n",
       "    </tr>\n",
       "    <tr>\n",
       "      <th>s011</th>\n",
       "      <td>1.000000</td>\n",
       "      <td>2.733333</td>\n",
       "      <td>0.985284</td>\n",
       "      <td>3.800000</td>\n",
       "      <td>259.500000</td>\n",
       "      <td>193.333333</td>\n",
       "      <td>5.480639</td>\n",
       "      <td>247.666667</td>\n",
       "      <td>1.7</td>\n",
       "      <td>2.090909</td>\n",
       "      <td>2.000000</td>\n",
       "      <td>2.071429</td>\n",
       "      <td>2.166667</td>\n",
       "      <td>176.495160</td>\n",
       "    </tr>\n",
       "    <tr>\n",
       "      <th>s012</th>\n",
       "      <td>1.454545</td>\n",
       "      <td>4.400000</td>\n",
       "      <td>1.200395</td>\n",
       "      <td>4.400000</td>\n",
       "      <td>347.166667</td>\n",
       "      <td>303.000000</td>\n",
       "      <td>5.619192</td>\n",
       "      <td>295.666667</td>\n",
       "      <td>1.9</td>\n",
       "      <td>1.454545</td>\n",
       "      <td>2.333333</td>\n",
       "      <td>2.000000</td>\n",
       "      <td>1.333333</td>\n",
       "      <td>237.863131</td>\n",
       "    </tr>\n",
       "  </tbody>\n",
       "</table>\n",
       "</div>"
      ],
      "text/plain": [
       "      dickman_survey.functional  bis11_survey.Attentional  \\\n",
       "s004                   1.545455                  2.333333   \n",
       "s005                   1.727273                  3.533333   \n",
       "s009                   1.090909                  4.933333   \n",
       "s011                   1.000000                  2.733333   \n",
       "s012                   1.454545                  4.400000   \n",
       "\n",
       "      bis11_survey.Motor.logTr  bis11_survey.Nonplanning  \\\n",
       "s004                  1.074515                  4.466667   \n",
       "s005                  1.252763                  3.633333   \n",
       "s009                  1.573070                  5.300000   \n",
       "s011                  0.985284                  3.800000   \n",
       "s012                  1.200395                  4.400000   \n",
       "\n",
       "      motor_selective_stop_signal.SSRT  stim_selective_stop_signal.SSRT  \\\n",
       "s004                        231.833333                       282.000000   \n",
       "s005                        344.166667                       432.666667   \n",
       "s009                        199.333333                       225.166667   \n",
       "s011                        259.500000                       193.333333   \n",
       "s012                        347.166667                       303.000000   \n",
       "\n",
       "      stop_signal.SSRT_high.logTr  stop_signal.SSRT_low  \\\n",
       "s004                     5.513429            281.500000   \n",
       "s005                     5.520127            302.500000   \n",
       "s009                     5.228431            206.500000   \n",
       "s011                     5.480639            247.666667   \n",
       "s012                     5.619192            295.666667   \n",
       "\n",
       "      upps_impulsivity_survey.lack_of_perseverance  \\\n",
       "s004                                           1.5   \n",
       "s005                                           1.7   \n",
       "s009                                           2.7   \n",
       "s011                                           1.7   \n",
       "s012                                           1.9   \n",
       "\n",
       "      upps_impulsivity_survey.lack_of_premeditation  \\\n",
       "s004                                       1.636364   \n",
       "s005                                       1.363636   \n",
       "s009                                       2.727273   \n",
       "s011                                       2.090909   \n",
       "s012                                       1.454545   \n",
       "\n",
       "      upps_impulsivity_survey.negative_urgency  \\\n",
       "s004                                  1.583333   \n",
       "s005                                  1.750000   \n",
       "s009                                  3.000000   \n",
       "s011                                  2.000000   \n",
       "s012                                  2.333333   \n",
       "\n",
       "      upps_impulsivity_survey.positive_urgency  \\\n",
       "s004                                  1.142857   \n",
       "s005                                  1.000000   \n",
       "s009                                  3.000000   \n",
       "s011                                  2.071429   \n",
       "s012                                  2.000000   \n",
       "\n",
       "      upps_impulsivity_survey.sensation_seeking   mean_SSRT  \n",
       "s004                                   1.916667  200.211691  \n",
       "s005                                   2.833333  271.213365  \n",
       "s009                                   2.333333  159.057108  \n",
       "s011                                   2.166667  176.495160  \n",
       "s012                                   1.333333  237.863131  "
      ]
     },
     "execution_count": 39,
     "metadata": {},
     "output_type": "execute_result"
    }
   ],
   "source": [
    "data_selected['mean_SSRT'] = data_selected[variable_names['SSRT']].mean(axis=1)\n",
    "data_selected.head()"
   ]
  },
  {
   "cell_type": "code",
   "execution_count": 40,
   "metadata": {},
   "outputs": [
    {
     "data": {
      "text/plain": [
       "{'bis11_survey.Attentional',\n",
       " 'bis11_survey.Motor.logTr',\n",
       " 'bis11_survey.Nonplanning',\n",
       " 'dickman_survey.functional',\n",
       " 'upps_impulsivity_survey.lack_of_perseverance',\n",
       " 'upps_impulsivity_survey.lack_of_premeditation',\n",
       " 'upps_impulsivity_survey.negative_urgency',\n",
       " 'upps_impulsivity_survey.positive_urgency',\n",
       " 'upps_impulsivity_survey.sensation_seeking'}"
      ]
     },
     "execution_count": 40,
     "metadata": {},
     "output_type": "execute_result"
    }
   ],
   "source": [
    "# create a list containing all of the variables except those for SSRT\n",
    "# using set operations\n",
    "\n",
    "impulsivity_variables = set(variables_to_keep).difference(variable_names['SSRT'])\n",
    "impulsivity_variables"
   ]
  },
  {
   "cell_type": "code",
   "execution_count": 41,
   "metadata": {},
   "outputs": [],
   "source": [
    "# we need to turn the set back into a list so it can be used as an index\n",
    "data_selected['mean_impulsivity'] = data_selected[list(impulsivity_variables)].mean(axis=1)"
   ]
  },
  {
   "cell_type": "markdown",
   "metadata": {},
   "source": [
    "Now we can compute the correlation between those two mean variables of interest, using the built-in correlation method ```.corr()```."
   ]
  },
  {
   "cell_type": "code",
   "execution_count": 42,
   "metadata": {},
   "outputs": [
    {
     "data": {
      "text/html": [
       "<div>\n",
       "<style scoped>\n",
       "    .dataframe tbody tr th:only-of-type {\n",
       "        vertical-align: middle;\n",
       "    }\n",
       "\n",
       "    .dataframe tbody tr th {\n",
       "        vertical-align: top;\n",
       "    }\n",
       "\n",
       "    .dataframe thead th {\n",
       "        text-align: right;\n",
       "    }\n",
       "</style>\n",
       "<table border=\"1\" class=\"dataframe\">\n",
       "  <thead>\n",
       "    <tr style=\"text-align: right;\">\n",
       "      <th></th>\n",
       "      <th>mean_impulsivity</th>\n",
       "      <th>mean_SSRT</th>\n",
       "    </tr>\n",
       "  </thead>\n",
       "  <tbody>\n",
       "    <tr>\n",
       "      <th>mean_impulsivity</th>\n",
       "      <td>1.000000</td>\n",
       "      <td>-0.043986</td>\n",
       "    </tr>\n",
       "    <tr>\n",
       "      <th>mean_SSRT</th>\n",
       "      <td>-0.043986</td>\n",
       "      <td>1.000000</td>\n",
       "    </tr>\n",
       "  </tbody>\n",
       "</table>\n",
       "</div>"
      ],
      "text/plain": [
       "                  mean_impulsivity  mean_SSRT\n",
       "mean_impulsivity          1.000000  -0.043986\n",
       "mean_SSRT                -0.043986   1.000000"
      ]
     },
     "execution_count": 42,
     "metadata": {},
     "output_type": "execute_result"
    }
   ],
   "source": [
    "data_selected[['mean_impulsivity', 'mean_SSRT']].corr()"
   ]
  },
  {
   "cell_type": "markdown",
   "metadata": {},
   "source": [
    "We have seen the adventage of using dictionary. However, if we only want to select variable names and do not need to access the variable names in the future, we can use `filter`."
   ]
  },
  {
   "cell_type": "code",
   "execution_count": 43,
   "metadata": {},
   "outputs": [
    {
     "data": {
      "text/plain": [
       "Index([u'bis11_survey.Attentional', u'bis11_survey.Motor.logTr',\n",
       "       u'bis11_survey.Nonplanning', u'dickman_survey.functional',\n",
       "       u'motor_selective_stop_signal.SSRT', u'stim_selective_stop_signal.SSRT',\n",
       "       u'stop_signal.SSRT_high.logTr', u'stop_signal.SSRT_low',\n",
       "       u'upps_impulsivity_survey.lack_of_perseverance',\n",
       "       u'upps_impulsivity_survey.lack_of_premeditation',\n",
       "       u'upps_impulsivity_survey.negative_urgency',\n",
       "       u'upps_impulsivity_survey.positive_urgency',\n",
       "       u'upps_impulsivity_survey.sensation_seeking'],\n",
       "      dtype='object')"
      ]
     },
     "execution_count": 43,
     "metadata": {},
     "output_type": "execute_result"
    }
   ],
   "source": [
    "data_use_filter_to_select = data.filter(regex= '\\.SSRT|bis11|upps|dickman',axis = 1)\n",
    "data_use_filter_to_select.columns"
   ]
  },
  {
   "cell_type": "markdown",
   "metadata": {},
   "source": [
    "## Joining datasets\n",
    "\n",
    "Often we will want to combine data that are stored in multiple files. Pandas provides tools for merging datasets using a common set of indices, using the ```.merge()``` operator.  Let's say that we want to combine our data above with some demographic data, so that we can ask whether impulsivity and SSRT are related to ever having been arrested in one's life.  These data are stored in a separate file (demographics.csv).  First we load the file:"
   ]
  },
  {
   "cell_type": "code",
   "execution_count": 49,
   "metadata": {},
   "outputs": [],
   "source": [
    "#Apply your knowledge\n",
    "#read in demographics.csv as a DataFrame called demogdata\n",
    "\n",
    "\n",
    "\n",
    "\n",
    "\n",
    "\n",
    "\n",
    "#Answer:\n",
    "#demogdata = pandas.read_csv('./data/demographics.csv', index_col=0)\n",
    "#demogdata.head()"
   ]
  },
  {
   "cell_type": "markdown",
   "metadata": {},
   "source": [
    "There is a variable called \"ArrestedChargedLifeCount\" that contains the self-reported number of times that a person has been arrested in their life.  Let's create a new variable that is True if the person has ever been arrested:"
   ]
  },
  {
   "cell_type": "code",
   "execution_count": 51,
   "metadata": {},
   "outputs": [],
   "source": [
    "#Apply your knowledge\n",
    "#column \"ArrestedChargedLifeCount\" contains the number of times \n",
    "#that a person has been arrested in his/her life. Use this information to create a new column called \"EverArrested\" \n",
    "#that is True if the person has ever been arrested.\n",
    "\n",
    "\n",
    "\n",
    "\n",
    "\n",
    "\n",
    "#demogdata['EverArrested'] = demogdata.ArrestedChargedLifeCount > 0"
   ]
  },
  {
   "cell_type": "markdown",
   "metadata": {},
   "source": [
    "Note: When you are referring to the value of a variable within a DataFrame, you can use either ```dataframe.VariableName``` or ```dataframe['VariableName']```.  However, when you are adding a new variable to a DataFrame, you must use the latter syntax.\n",
    "\n",
    "Now let's join the new variable with the data from above.  We want to only include cases that are present in both datasets, so we use what is called an \"inner join\" (see [the pandas.DataFrame.join help](https://pandas.pydata.org/pandas-docs/stable/reference/api/pandas.DataFrame.join.html) for more on this).  "
   ]
  },
  {
   "cell_type": "code",
   "execution_count": 52,
   "metadata": {},
   "outputs": [
    {
     "data": {
      "text/html": [
       "<div>\n",
       "<style scoped>\n",
       "    .dataframe tbody tr th:only-of-type {\n",
       "        vertical-align: middle;\n",
       "    }\n",
       "\n",
       "    .dataframe tbody tr th {\n",
       "        vertical-align: top;\n",
       "    }\n",
       "\n",
       "    .dataframe thead th {\n",
       "        text-align: right;\n",
       "    }\n",
       "</style>\n",
       "<table border=\"1\" class=\"dataframe\">\n",
       "  <thead>\n",
       "    <tr style=\"text-align: right;\">\n",
       "      <th></th>\n",
       "      <th>mean_impulsivity</th>\n",
       "      <th>mean_SSRT</th>\n",
       "      <th>EverArrested</th>\n",
       "    </tr>\n",
       "  </thead>\n",
       "  <tbody>\n",
       "    <tr>\n",
       "      <th>s004</th>\n",
       "      <td>1.911021</td>\n",
       "      <td>200.211691</td>\n",
       "      <td>False</td>\n",
       "    </tr>\n",
       "    <tr>\n",
       "      <th>s005</th>\n",
       "      <td>2.088186</td>\n",
       "      <td>271.213365</td>\n",
       "      <td>True</td>\n",
       "    </tr>\n",
       "    <tr>\n",
       "      <th>s009</th>\n",
       "      <td>2.961991</td>\n",
       "      <td>159.057108</td>\n",
       "      <td>False</td>\n",
       "    </tr>\n",
       "    <tr>\n",
       "      <th>s011</th>\n",
       "      <td>2.060847</td>\n",
       "      <td>176.495160</td>\n",
       "      <td>False</td>\n",
       "    </tr>\n",
       "    <tr>\n",
       "      <th>s012</th>\n",
       "      <td>2.275128</td>\n",
       "      <td>237.863131</td>\n",
       "      <td>False</td>\n",
       "    </tr>\n",
       "  </tbody>\n",
       "</table>\n",
       "</div>"
      ],
      "text/plain": [
       "      mean_impulsivity   mean_SSRT  EverArrested\n",
       "s004          1.911021  200.211691         False\n",
       "s005          2.088186  271.213365          True\n",
       "s009          2.961991  159.057108         False\n",
       "s011          2.060847  176.495160         False\n",
       "s012          2.275128  237.863131         False"
      ]
     },
     "execution_count": 52,
     "metadata": {},
     "output_type": "execute_result"
    }
   ],
   "source": [
    "data_selected_with_arrest = data_selected[['mean_impulsivity', 'mean_SSRT']].join(demogdata['EverArrested'], how = 'inner')\n",
    "data_selected_with_arrest.head()"
   ]
  },
  {
   "cell_type": "markdown",
   "metadata": {},
   "source": [
    "inner: form intersection of calling frame’s index (or column if on is specified) with other’s index, preserving the order of the calling’s one."
   ]
  },
  {
   "cell_type": "markdown",
   "metadata": {},
   "source": [
    "## Grouping variables using groupby()\n",
    "\n"
   ]
  },
  {
   "cell_type": "markdown",
   "metadata": {},
   "source": [
    "Now we want to summarize the data by the different groups: Arrested vs. never arrested. Here we can apply the method ```.groupby()``` we have learned previously. First let's group the data and compute the mean for each group on each variable, and then compute normal confidence intervals for each mean."
   ]
  },
  {
   "cell_type": "code",
   "execution_count": 57,
   "metadata": {},
   "outputs": [],
   "source": [
    "#Apply your knowledge\n",
    "# compute means for each group/variable based on \"EverAressted\"\n",
    "\n",
    "\n",
    "\n",
    "# Answer\n",
    "#mean_by_group = data_selected_with_arrest.groupby('EverArrested').mean()\n",
    "# print(mean_by_group)\n"
   ]
  },
  {
   "cell_type": "code",
   "execution_count": 58,
   "metadata": {},
   "outputs": [
    {
     "name": "stdout",
     "output_type": "stream",
     "text": [
      "              mean_impulsivity  mean_SSRT\n",
      "EverArrested                             \n",
      "False                 0.021448   1.989571\n",
      "True                  0.023668   2.073708\n"
     ]
    },
    {
     "data": {
      "text/html": [
       "<div>\n",
       "<style scoped>\n",
       "    .dataframe tbody tr th:only-of-type {\n",
       "        vertical-align: middle;\n",
       "    }\n",
       "\n",
       "    .dataframe tbody tr th {\n",
       "        vertical-align: top;\n",
       "    }\n",
       "\n",
       "    .dataframe thead th {\n",
       "        text-align: right;\n",
       "    }\n",
       "</style>\n",
       "<table border=\"1\" class=\"dataframe\">\n",
       "  <thead>\n",
       "    <tr style=\"text-align: right;\">\n",
       "      <th></th>\n",
       "      <th>mean_SSRT</th>\n",
       "      <th>mean_SSRT_lowerCI</th>\n",
       "      <th>mean_SSRT_upperCI</th>\n",
       "      <th>mean_impulsivity</th>\n",
       "      <th>mean_impulsivity_lowerCI</th>\n",
       "      <th>mean_impulsivity_upperCI</th>\n",
       "    </tr>\n",
       "    <tr>\n",
       "      <th>EverArrested</th>\n",
       "      <th></th>\n",
       "      <th></th>\n",
       "      <th></th>\n",
       "      <th></th>\n",
       "      <th></th>\n",
       "      <th></th>\n",
       "    </tr>\n",
       "  </thead>\n",
       "  <tbody>\n",
       "    <tr>\n",
       "      <th>False</th>\n",
       "      <td>230.255239</td>\n",
       "      <td>226.355680</td>\n",
       "      <td>234.154798</td>\n",
       "      <td>2.179763</td>\n",
       "      <td>2.137725</td>\n",
       "      <td>2.221802</td>\n",
       "    </tr>\n",
       "    <tr>\n",
       "      <th>True</th>\n",
       "      <td>226.701396</td>\n",
       "      <td>222.636929</td>\n",
       "      <td>230.765863</td>\n",
       "      <td>2.351907</td>\n",
       "      <td>2.305518</td>\n",
       "      <td>2.398296</td>\n",
       "    </tr>\n",
       "  </tbody>\n",
       "</table>\n",
       "</div>"
      ],
      "text/plain": [
       "               mean_SSRT  mean_SSRT_lowerCI  mean_SSRT_upperCI  \\\n",
       "EverArrested                                                     \n",
       "False         230.255239         226.355680         234.154798   \n",
       "True          226.701396         222.636929         230.765863   \n",
       "\n",
       "              mean_impulsivity  mean_impulsivity_lowerCI  \\\n",
       "EverArrested                                               \n",
       "False                 2.179763                  2.137725   \n",
       "True                  2.351907                  2.305518   \n",
       "\n",
       "              mean_impulsivity_upperCI  \n",
       "EverArrested                            \n",
       "False                         2.221802  \n",
       "True                          2.398296  "
      ]
     },
     "execution_count": 58,
     "metadata": {},
     "output_type": "execute_result"
    }
   ],
   "source": [
    "# comnpute standard errors\n",
    "stderr_by_group = data_selected_with_arrest.groupby('EverArrested').std()/numpy.sqrt(data_selected_with_arrest.shape[0])\n",
    "print(stderr_by_group)\n",
    "\n",
    "# compute normal confidence intervals\n",
    "upper_ci = mean_by_group + stderr_by_group*1.96\n",
    "upper_ci.columns = [i + '_upperCI' for i in upper_ci.columns] # fix names\n",
    "\n",
    "lower_ci = mean_by_group - stderr_by_group*1.96\n",
    "lower_ci.columns = [i + '_lowerCI' for i in lower_ci.columns] # fix names\n",
    "\n",
    "# add back into a single DataFrame\n",
    "results = pandas.concat([mean_by_group, upper_ci, lower_ci], axis=1) #, ))\n",
    "# reorder the columns\n",
    "result_columns = results.columns.tolist()\n",
    "result_columns.sort()\n",
    "results = results[result_columns]\n",
    "results\n"
   ]
  },
  {
   "cell_type": "markdown",
   "metadata": {},
   "source": [
    "Eyeballing these results, it appears that there is a difference in impulsivity between the groups.  We will return to this later when we move on to statistical inference.  Before we leave, let's save the data to a csv file so that we can read it back in when we return to this later.  This is easy using the ```.to_csv()``` method with the DataFrame."
   ]
  },
  {
   "cell_type": "code",
   "execution_count": 62,
   "metadata": {},
   "outputs": [],
   "source": [
    "data_selected_with_arrest.to_csv('./data/arrest_ssrt_impulsivity.csv')"
   ]
  },
  {
   "cell_type": "markdown",
   "metadata": {},
   "source": [
    "### Series in Pandas\n",
    "\n",
    "A Series is a one-dimensional data structure similar to an array or a list.  The main difference between a Pandas Series and a list is that the Series contains some additional indexing information.  To see how this works, let's generate some numbers and put them in a Series."
   ]
  },
  {
   "cell_type": "code",
   "execution_count": 59,
   "metadata": {},
   "outputs": [
    {
     "name": "stdout",
     "output_type": "stream",
     "text": [
      "0   -0.204708\n",
      "1    0.478943\n",
      "2   -0.519439\n",
      "3   -0.555730\n",
      "4    1.965781\n",
      "dtype: float64\n"
     ]
    }
   ],
   "source": [
    "numpy.random.seed(12345)  # fix the random seed for reproducibility\n",
    "\n",
    "s = pandas.Series(numpy.random.randn(5))\n",
    "print(s)"
   ]
  },
  {
   "cell_type": "markdown",
   "metadata": {},
   "source": [
    "The index for this Series by default is a series of integers starting at zero.  However, we can also specify an index explicity. Let's say that our 5 numbers come from 5 different people, and we want to use their names as the index:"
   ]
  },
  {
   "cell_type": "code",
   "execution_count": 60,
   "metadata": {},
   "outputs": [
    {
     "name": "stdout",
     "output_type": "stream",
     "text": [
      "Lisa     1.393406\n",
      "Sue      0.092908\n",
      "Karen    0.281746\n",
      "Lucy     0.769023\n",
      "Helen    1.246435\n",
      "dtype: float64\n"
     ]
    }
   ],
   "source": [
    "s_indexed = pandas.Series(numpy.random.randn(5),\n",
    "                  index=['Lisa', 'Sue', 'Karen', 'Lucy', 'Helen'])\n",
    "print(s_indexed)"
   ]
  },
  {
   "cell_type": "markdown",
   "metadata": {},
   "source": [
    "We can also access the index directly using the ```.index``` element of the Series:"
   ]
  },
  {
   "cell_type": "code",
   "execution_count": 61,
   "metadata": {},
   "outputs": [
    {
     "data": {
      "text/plain": [
       "Index([u'Lisa', u'Sue', u'Karen', u'Lucy', u'Helen'], dtype='object')"
      ]
     },
     "execution_count": 61,
     "metadata": {},
     "output_type": "execute_result"
    }
   ],
   "source": [
    "s_indexed.index"
   ]
  },
  {
   "cell_type": "markdown",
   "metadata": {},
   "source": [
    "And we can set the index using that element as well:"
   ]
  },
  {
   "cell_type": "code",
   "execution_count": 62,
   "metadata": {},
   "outputs": [
    {
     "name": "stdout",
     "output_type": "stream",
     "text": [
      "Lisa    -0.204708\n",
      "Sue      0.478943\n",
      "Karen   -0.519439\n",
      "Lucy    -0.555730\n",
      "Helen    1.965781\n",
      "dtype: float64\n"
     ]
    }
   ],
   "source": [
    "s.index = ['Lisa', 'Sue', 'Karen', 'Lucy', 'Helen']\n",
    "print(s)"
   ]
  },
  {
   "cell_type": "markdown",
   "metadata": {},
   "source": [
    "A nice feature is that we can then access the data using the index:"
   ]
  },
  {
   "cell_type": "code",
   "execution_count": 63,
   "metadata": {},
   "outputs": [
    {
     "name": "stdout",
     "output_type": "stream",
     "text": [
      "1.9657805725027142\n",
      "Karen   -0.519439\n",
      "Lucy    -0.555730\n",
      "Helen    1.965781\n",
      "dtype: float64\n"
     ]
    }
   ],
   "source": [
    "# access a single element\n",
    "print(s['Helen'])\n",
    "\n",
    "# access a range of elements\n",
    "print(s['Karen':'Helen'])\n"
   ]
  },
  {
   "cell_type": "markdown",
   "metadata": {},
   "source": [
    "We can also index based on the values of the series --- for example, we can find all entries with values less than zero:"
   ]
  },
  {
   "cell_type": "code",
   "execution_count": 64,
   "metadata": {},
   "outputs": [
    {
     "name": "stdout",
     "output_type": "stream",
     "text": [
      "Lisa    -0.204708\n",
      "Karen   -0.519439\n",
      "Lucy    -0.555730\n",
      "dtype: float64\n"
     ]
    }
   ],
   "source": [
    "print(s[s<0])"
   ]
  },
  {
   "cell_type": "markdown",
   "metadata": {},
   "source": [
    "This works because ```s < 0``` returns a Boolean series, and using a Boolean series as a index to another Series will return all of the places where the Boolean series is true:"
   ]
  },
  {
   "cell_type": "code",
   "execution_count": 65,
   "metadata": {},
   "outputs": [
    {
     "name": "stdout",
     "output_type": "stream",
     "text": [
      "Lisa      True\n",
      "Sue      False\n",
      "Karen     True\n",
      "Lucy      True\n",
      "Helen    False\n",
      "dtype: bool\n"
     ]
    }
   ],
   "source": [
    "print(s < 0)"
   ]
  },
  {
   "cell_type": "markdown",
   "metadata": {},
   "source": [
    "Sometimes you may want to extract the values from a Series back into a Numpy array. You can do this using the ```.values``` element of the Series"
   ]
  },
  {
   "cell_type": "code",
   "execution_count": 66,
   "metadata": {},
   "outputs": [
    {
     "data": {
      "text/plain": [
       "array([-0.20470766,  0.47894334, -0.51943872, -0.5557303 ,  1.96578057])"
      ]
     },
     "execution_count": 66,
     "metadata": {},
     "output_type": "execute_result"
    }
   ],
   "source": [
    "s.values"
   ]
  },
  {
   "cell_type": "markdown",
   "metadata": {},
   "source": [
    "You can sort the Series according to the data values using the ```.sort_values()``` function:"
   ]
  },
  {
   "cell_type": "code",
   "execution_count": 67,
   "metadata": {},
   "outputs": [
    {
     "name": "stdout",
     "output_type": "stream",
     "text": [
      "Lucy    -0.555730\n",
      "Karen   -0.519439\n",
      "Lisa    -0.204708\n",
      "Sue      0.478943\n",
      "Helen    1.965781\n",
      "dtype: float64\n"
     ]
    }
   ],
   "source": [
    "s_sorted = s.sort_values()\n",
    "print(s_sorted)"
   ]
  },
  {
   "cell_type": "markdown",
   "metadata": {},
   "source": [
    "Now let's say that you wanted to only take the top three of the sorted list. "
   ]
  },
  {
   "cell_type": "code",
   "execution_count": 68,
   "metadata": {},
   "outputs": [
    {
     "data": {
      "text/plain": [
       "Lisa    -0.204708\n",
       "Sue      0.478943\n",
       "Helen    1.965781\n",
       "dtype: float64"
      ]
     },
     "execution_count": 68,
     "metadata": {},
     "output_type": "execute_result"
    }
   ],
   "source": [
    "s_sorted[-3:]"
   ]
  },
  {
   "cell_type": "markdown",
   "metadata": {},
   "source": [
    "What if you aren't sure whether an item is in the Series?"
   ]
  },
  {
   "cell_type": "code",
   "execution_count": 69,
   "metadata": {},
   "outputs": [
    {
     "name": "stdout",
     "output_type": "stream",
     "text": [
      "False\n",
      "True\n"
     ]
    }
   ],
   "source": [
    "print('Arielle' in s)\n",
    "print('Lucy' in s)"
   ]
  },
  {
   "cell_type": "markdown",
   "metadata": {},
   "source": [
    "Mathematical operations can be done using scalars and functions."
   ]
  },
  {
   "cell_type": "code",
   "execution_count": 70,
   "metadata": {},
   "outputs": [
    {
     "data": {
      "text/plain": [
       "Lisa     0.041905\n",
       "Sue      0.229387\n",
       "Karen    0.269817\n",
       "Lucy     0.308836\n",
       "Helen    3.864293\n",
       "dtype: float64"
      ]
     },
     "execution_count": 70,
     "metadata": {},
     "output_type": "execute_result"
    }
   ],
   "source": [
    "s/10\n",
    "numpy.square(s)"
   ]
  },
  {
   "cell_type": "code",
   "execution_count": 71,
   "metadata": {},
   "outputs": [
    {
     "data": {
      "text/plain": [
       "Lisa    -0.204708\n",
       "Sue      0.478943\n",
       "Karen   -0.519439\n",
       "Lucy    -0.555730\n",
       "Helen    1.965781\n",
       "John     1.007189\n",
       "Jack    -1.296221\n",
       "Will     0.274992\n",
       "dtype: float64"
      ]
     },
     "execution_count": 71,
     "metadata": {},
     "output_type": "execute_result"
    }
   ],
   "source": [
    "s2 = pandas.Series(numpy.random.randn(3),\n",
    "                  index=['John', 'Jack', 'Will'])\n",
    "s.append(s2)"
   ]
  },
  {
   "cell_type": "code",
   "execution_count": 72,
   "metadata": {},
   "outputs": [],
   "source": [
    "#Apply your knowledge\n",
    "#You are looking for a new phone. You obtain a list of iphones and their prices and a list of Samsung phones and their prices.\n",
    "price1 = pandas.Series([799,650,999],\n",
    "                  index=['iphone11', 'iphonese', 'iphone11pro'])\n",
    "price2 = pandas.Series([899,780,1000,800],\n",
    "                  index=['GalaxyS9', 'GalaxyS8', 'GalaxyS9plus','GalaxyS8plus'])\n",
    "\n",
    "##Combine these two series and sort the values from low to high\n",
    "\n",
    "\n",
    "\n",
    "\n",
    "##You do not want any phones that are more expensive than $850. Which phones are available now?\n",
    "\n",
    "\n",
    "\n",
    "##You decided not to consider GalaxyS8. Can you drop GalaxyS8 from the series by its index? (google)\n",
    "\n",
    "\n",
    "\n",
    "\n",
    "\n",
    "\n",
    "\n",
    "\n",
    "#Answer\n",
    "# phone_price = price1.append(price2)\n",
    "# phone_price_sort = phone_price.sort_values()\n",
    "# phone_price_sort[phone_price_sort<850]\n",
    "# phone_price_sort.drop(labels=\"GalaxyS8\")\n"
   ]
  },
  {
   "cell_type": "markdown",
   "metadata": {},
   "source": [
    "## Resources\n",
    "There are some great tutorials on Pandas linked [here](http://www.data-analysis-in-python.org/3_pandas.html).\n",
    "https://pandas.pydata.org/pandas-docs/stable/reference/api/pandas.DataFrame.filter.html"
   ]
  },
  {
   "cell_type": "code",
   "execution_count": null,
   "metadata": {},
   "outputs": [],
   "source": []
  },
  {
   "cell_type": "code",
   "execution_count": null,
   "metadata": {},
   "outputs": [],
   "source": []
  }
 ],
 "metadata": {
  "kernelspec": {
   "display_name": "Python 3",
   "language": "python",
   "name": "python3"
  },
  "language_info": {
   "codemirror_mode": {
    "name": "ipython",
    "version": 3
   },
   "file_extension": ".py",
   "mimetype": "text/x-python",
   "name": "python",
   "nbconvert_exporter": "python",
   "pygments_lexer": "ipython3",
   "version": "3.7.3"
  }
 },
 "nbformat": 4,
 "nbformat_minor": 2
}
